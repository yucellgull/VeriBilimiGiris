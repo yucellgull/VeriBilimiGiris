{
 "cells": [
  {
   "cell_type": "markdown",
   "id": "be63a8a2",
   "metadata": {},
   "source": [
    "# Fonsiyon"
   ]
  },
  {
   "cell_type": "code",
   "execution_count": 1,
   "id": "e2069d32",
   "metadata": {},
   "outputs": [],
   "source": [
    "isim = \"Yücel Gül\""
   ]
  },
  {
   "cell_type": "code",
   "execution_count": 3,
   "id": "e8953a9a",
   "metadata": {},
   "outputs": [
    {
     "data": {
      "text/plain": [
       "'YÜCEL GÜL'"
      ]
     },
     "execution_count": 3,
     "metadata": {},
     "output_type": "execute_result"
    }
   ],
   "source": [
    "isim.upper()"
   ]
  },
  {
   "cell_type": "code",
   "execution_count": 4,
   "id": "f1ffe476",
   "metadata": {},
   "outputs": [
    {
     "data": {
      "text/plain": [
       "'Yücel Gül'"
      ]
     },
     "execution_count": 4,
     "metadata": {},
     "output_type": "execute_result"
    }
   ],
   "source": [
    "isim"
   ]
  },
  {
   "cell_type": "code",
   "execution_count": 5,
   "id": "1bd67c9f",
   "metadata": {},
   "outputs": [],
   "source": [
    "isimbuyuk = isim.upper()"
   ]
  },
  {
   "cell_type": "code",
   "execution_count": 6,
   "id": "c531711e",
   "metadata": {},
   "outputs": [
    {
     "data": {
      "text/plain": [
       "'YÜCEL GÜL'"
      ]
     },
     "execution_count": 6,
     "metadata": {},
     "output_type": "execute_result"
    }
   ],
   "source": [
    "isimbuyuk"
   ]
  },
  {
   "cell_type": "code",
   "execution_count": 8,
   "id": "1e69c9c7",
   "metadata": {},
   "outputs": [
    {
     "data": {
      "text/plain": [
       "'Yücel Gül'"
      ]
     },
     "execution_count": 8,
     "metadata": {},
     "output_type": "execute_result"
    }
   ],
   "source": [
    "isim"
   ]
  },
  {
   "cell_type": "code",
   "execution_count": 9,
   "id": "d717b0d9",
   "metadata": {},
   "outputs": [],
   "source": [
    "def ilkfonksiyon():\n",
    "    print(\"ilk fonsiyon\")"
   ]
  },
  {
   "cell_type": "code",
   "execution_count": 10,
   "id": "d7da00c8",
   "metadata": {},
   "outputs": [
    {
     "name": "stdout",
     "output_type": "stream",
     "text": [
      "ilk fonsiyon\n"
     ]
    }
   ],
   "source": [
    "ilkfonksiyon()"
   ]
  },
  {
   "cell_type": "markdown",
   "id": "c9de1667",
   "metadata": {},
   "source": [
    "# input&return"
   ]
  },
  {
   "cell_type": "code",
   "execution_count": 15,
   "id": "9a5cd1f9",
   "metadata": {},
   "outputs": [],
   "source": [
    "def merhaba(isim):\n",
    "    print(\"Merhaba\")\n",
    "    print(isim)"
   ]
  },
  {
   "cell_type": "code",
   "execution_count": 16,
   "id": "84f07568",
   "metadata": {},
   "outputs": [
    {
     "name": "stdout",
     "output_type": "stream",
     "text": [
      "Merhaba\n",
      "Yucel\n"
     ]
    }
   ],
   "source": [
    "merhaba(\"Yucel\")"
   ]
  },
  {
   "cell_type": "code",
   "execution_count": 17,
   "id": "77c248b2",
   "metadata": {},
   "outputs": [],
   "source": [
    "def merhaba(isim = \"admin\"):\n",
    "    print(\"Merhaba\")\n",
    "    print(isim)"
   ]
  },
  {
   "cell_type": "code",
   "execution_count": 19,
   "id": "d8896128",
   "metadata": {},
   "outputs": [
    {
     "name": "stdout",
     "output_type": "stream",
     "text": [
      "Merhaba\n",
      "admin\n"
     ]
    }
   ],
   "source": [
    "merhaba()"
   ]
  },
  {
   "cell_type": "code",
   "execution_count": 20,
   "id": "abca1ff1",
   "metadata": {},
   "outputs": [
    {
     "name": "stdout",
     "output_type": "stream",
     "text": [
      "Merhaba\n",
      "Yücel\n"
     ]
    }
   ],
   "source": [
    "merhaba(\"Yücel\")"
   ]
  },
  {
   "cell_type": "code",
   "execution_count": 21,
   "id": "2d9c1b91",
   "metadata": {},
   "outputs": [],
   "source": [
    "def toplama (no1,no2):\n",
    "    sonuc = no1+no2\n",
    "    print(sonuc)"
   ]
  },
  {
   "cell_type": "code",
   "execution_count": 23,
   "id": "94495fc9",
   "metadata": {},
   "outputs": [
    {
     "name": "stdout",
     "output_type": "stream",
     "text": [
      "56\n"
     ]
    }
   ],
   "source": [
    "toplama(22,34)"
   ]
  },
  {
   "cell_type": "code",
   "execution_count": 24,
   "id": "2bf299c8",
   "metadata": {},
   "outputs": [
    {
     "name": "stdout",
     "output_type": "stream",
     "text": [
      "30\n"
     ]
    }
   ],
   "source": [
    "yenidegisken = toplama(10,20)"
   ]
  },
  {
   "cell_type": "code",
   "execution_count": 26,
   "id": "5f5d5167",
   "metadata": {},
   "outputs": [
    {
     "data": {
      "text/plain": [
       "NoneType"
      ]
     },
     "execution_count": 26,
     "metadata": {},
     "output_type": "execute_result"
    }
   ],
   "source": [
    "type(yenidegisken)"
   ]
  },
  {
   "cell_type": "code",
   "execution_count": 28,
   "id": "eb6f97b0",
   "metadata": {},
   "outputs": [],
   "source": [
    "def dondurmelitoplama(no1,no2):\n",
    "    return no1+no2\n",
    "    "
   ]
  },
  {
   "cell_type": "code",
   "execution_count": 29,
   "id": "35f5319e",
   "metadata": {},
   "outputs": [],
   "source": [
    "yenisonuc = dondurmelitoplama(10,20)"
   ]
  },
  {
   "cell_type": "code",
   "execution_count": 31,
   "id": "653fdd9a",
   "metadata": {},
   "outputs": [
    {
     "data": {
      "text/plain": [
       "30"
      ]
     },
     "execution_count": 31,
     "metadata": {},
     "output_type": "execute_result"
    }
   ],
   "source": [
    "yenisonuc"
   ]
  },
  {
   "cell_type": "markdown",
   "id": "751b54c9",
   "metadata": {},
   "source": [
    "# args & kwargs"
   ]
  },
  {
   "cell_type": "code",
   "execution_count": 33,
   "id": "1ae1cc21",
   "metadata": {},
   "outputs": [],
   "source": [
    "def yenitop (*args):\n",
    "    return sum(args)"
   ]
  },
  {
   "cell_type": "code",
   "execution_count": 34,
   "id": "07a40d1e",
   "metadata": {},
   "outputs": [
    {
     "data": {
      "text/plain": [
       "210"
      ]
     },
     "execution_count": 34,
     "metadata": {},
     "output_type": "execute_result"
    }
   ],
   "source": [
    "yenitop(10,20,30,40,50,60)"
   ]
  },
  {
   "cell_type": "code",
   "execution_count": 35,
   "id": "ddd3ccba",
   "metadata": {},
   "outputs": [
    {
     "data": {
      "text/plain": [
       "30"
      ]
     },
     "execution_count": 35,
     "metadata": {},
     "output_type": "execute_result"
    }
   ],
   "source": [
    "yenitop(10,20)"
   ]
  },
  {
   "cell_type": "code",
   "execution_count": 37,
   "id": "5238ad5b",
   "metadata": {},
   "outputs": [],
   "source": [
    "def fonksiyonum(*args):\n",
    "    return args"
   ]
  },
  {
   "cell_type": "code",
   "execution_count": 40,
   "id": "72a30b55",
   "metadata": {},
   "outputs": [
    {
     "data": {
      "text/plain": [
       "tuple"
      ]
     },
     "execution_count": 40,
     "metadata": {},
     "output_type": "execute_result"
    }
   ],
   "source": [
    "type(fonksiyonum(20,30,40))"
   ]
  },
  {
   "cell_type": "code",
   "execution_count": 44,
   "id": "bfe76ebc",
   "metadata": {},
   "outputs": [],
   "source": [
    "def ornekfonksiyon(**kwargs):\n",
    "    return kwargs"
   ]
  },
  {
   "cell_type": "code",
   "execution_count": 45,
   "id": "2b39eb0d",
   "metadata": {},
   "outputs": [],
   "source": [
    "yeni = ornekfonksiyon(muz = 100, elma = 200, ananas = 300)"
   ]
  },
  {
   "cell_type": "code",
   "execution_count": 46,
   "id": "9d02acd9",
   "metadata": {},
   "outputs": [
    {
     "data": {
      "text/plain": [
       "{'muz': 100, 'elma': 200, 'ananas': 300}"
      ]
     },
     "execution_count": 46,
     "metadata": {},
     "output_type": "execute_result"
    }
   ],
   "source": [
    "yeni"
   ]
  },
  {
   "cell_type": "code",
   "execution_count": 47,
   "id": "0be2efa5",
   "metadata": {},
   "outputs": [
    {
     "data": {
      "text/plain": [
       "dict"
      ]
     },
     "execution_count": 47,
     "metadata": {},
     "output_type": "execute_result"
    }
   ],
   "source": [
    "type(yeni)"
   ]
  },
  {
   "cell_type": "code",
   "execution_count": null,
   "id": "4131d271",
   "metadata": {},
   "outputs": [],
   "source": []
  }
 ],
 "metadata": {
  "kernelspec": {
   "display_name": "Python 3 (ipykernel)",
   "language": "python",
   "name": "python3"
  },
  "language_info": {
   "codemirror_mode": {
    "name": "ipython",
    "version": 3
   },
   "file_extension": ".py",
   "mimetype": "text/x-python",
   "name": "python",
   "nbconvert_exporter": "python",
   "pygments_lexer": "ipython3",
   "version": "3.11.4"
  }
 },
 "nbformat": 4,
 "nbformat_minor": 5
}
