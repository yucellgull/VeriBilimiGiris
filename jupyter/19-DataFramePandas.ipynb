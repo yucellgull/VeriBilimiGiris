{
 "cells": [
  {
   "cell_type": "code",
   "execution_count": 8,
   "id": "8145828f",
   "metadata": {},
   "outputs": [],
   "source": [
    "import numpy as np\n",
    "import pandas as pd"
   ]
  },
  {
   "cell_type": "code",
   "execution_count": 9,
   "id": "ac1b6fcf",
   "metadata": {},
   "outputs": [],
   "source": [
    "data = np.random.randn(4,3)"
   ]
  },
  {
   "cell_type": "code",
   "execution_count": 10,
   "id": "851e25ac",
   "metadata": {},
   "outputs": [
    {
     "data": {
      "text/plain": [
       "array([[-1.15915478, -0.66889272, -1.14421004],\n",
       "       [ 0.38370961,  0.80289179, -0.65191931],\n",
       "       [-0.29796037,  1.00488041,  1.75229634],\n",
       "       [ 1.9212176 ,  0.11163037,  1.0985139 ]])"
      ]
     },
     "execution_count": 10,
     "metadata": {},
     "output_type": "execute_result"
    }
   ],
   "source": [
    "data"
   ]
  },
  {
   "cell_type": "code",
   "execution_count": 11,
   "id": "fa7e1138",
   "metadata": {},
   "outputs": [],
   "source": [
    "dataFrame = pd.DataFrame(data)"
   ]
  },
  {
   "cell_type": "code",
   "execution_count": 12,
   "id": "32ec3538",
   "metadata": {},
   "outputs": [
    {
     "data": {
      "text/html": [
       "<div>\n",
       "<style scoped>\n",
       "    .dataframe tbody tr th:only-of-type {\n",
       "        vertical-align: middle;\n",
       "    }\n",
       "\n",
       "    .dataframe tbody tr th {\n",
       "        vertical-align: top;\n",
       "    }\n",
       "\n",
       "    .dataframe thead th {\n",
       "        text-align: right;\n",
       "    }\n",
       "</style>\n",
       "<table border=\"1\" class=\"dataframe\">\n",
       "  <thead>\n",
       "    <tr style=\"text-align: right;\">\n",
       "      <th></th>\n",
       "      <th>0</th>\n",
       "      <th>1</th>\n",
       "      <th>2</th>\n",
       "    </tr>\n",
       "  </thead>\n",
       "  <tbody>\n",
       "    <tr>\n",
       "      <th>0</th>\n",
       "      <td>-1.159155</td>\n",
       "      <td>-0.668893</td>\n",
       "      <td>-1.144210</td>\n",
       "    </tr>\n",
       "    <tr>\n",
       "      <th>1</th>\n",
       "      <td>0.383710</td>\n",
       "      <td>0.802892</td>\n",
       "      <td>-0.651919</td>\n",
       "    </tr>\n",
       "    <tr>\n",
       "      <th>2</th>\n",
       "      <td>-0.297960</td>\n",
       "      <td>1.004880</td>\n",
       "      <td>1.752296</td>\n",
       "    </tr>\n",
       "    <tr>\n",
       "      <th>3</th>\n",
       "      <td>1.921218</td>\n",
       "      <td>0.111630</td>\n",
       "      <td>1.098514</td>\n",
       "    </tr>\n",
       "  </tbody>\n",
       "</table>\n",
       "</div>"
      ],
      "text/plain": [
       "          0         1         2\n",
       "0 -1.159155 -0.668893 -1.144210\n",
       "1  0.383710  0.802892 -0.651919\n",
       "2 -0.297960  1.004880  1.752296\n",
       "3  1.921218  0.111630  1.098514"
      ]
     },
     "execution_count": 12,
     "metadata": {},
     "output_type": "execute_result"
    }
   ],
   "source": [
    "dataFrame"
   ]
  },
  {
   "cell_type": "code",
   "execution_count": 14,
   "id": "d196325b",
   "metadata": {},
   "outputs": [],
   "source": [
    "yenidataFrame = pd.DataFrame(data,index = [\"Ali\",\"Veli\",\"Zeynep\",\n",
    "                                          \"Aslı\"],columns = [\"maas\",\n",
    "                                                           \"yaş\",\"saat\"])"
   ]
  },
  {
   "cell_type": "code",
   "execution_count": 16,
   "id": "29da29a0",
   "metadata": {},
   "outputs": [
    {
     "data": {
      "text/html": [
       "<div>\n",
       "<style scoped>\n",
       "    .dataframe tbody tr th:only-of-type {\n",
       "        vertical-align: middle;\n",
       "    }\n",
       "\n",
       "    .dataframe tbody tr th {\n",
       "        vertical-align: top;\n",
       "    }\n",
       "\n",
       "    .dataframe thead th {\n",
       "        text-align: right;\n",
       "    }\n",
       "</style>\n",
       "<table border=\"1\" class=\"dataframe\">\n",
       "  <thead>\n",
       "    <tr style=\"text-align: right;\">\n",
       "      <th></th>\n",
       "      <th>maas</th>\n",
       "      <th>yaş</th>\n",
       "      <th>saat</th>\n",
       "    </tr>\n",
       "  </thead>\n",
       "  <tbody>\n",
       "    <tr>\n",
       "      <th>Ali</th>\n",
       "      <td>-1.159155</td>\n",
       "      <td>-0.668893</td>\n",
       "      <td>-1.144210</td>\n",
       "    </tr>\n",
       "    <tr>\n",
       "      <th>Veli</th>\n",
       "      <td>0.383710</td>\n",
       "      <td>0.802892</td>\n",
       "      <td>-0.651919</td>\n",
       "    </tr>\n",
       "    <tr>\n",
       "      <th>Zeynep</th>\n",
       "      <td>-0.297960</td>\n",
       "      <td>1.004880</td>\n",
       "      <td>1.752296</td>\n",
       "    </tr>\n",
       "    <tr>\n",
       "      <th>Aslı</th>\n",
       "      <td>1.921218</td>\n",
       "      <td>0.111630</td>\n",
       "      <td>1.098514</td>\n",
       "    </tr>\n",
       "  </tbody>\n",
       "</table>\n",
       "</div>"
      ],
      "text/plain": [
       "            maas       yaş      saat\n",
       "Ali    -1.159155 -0.668893 -1.144210\n",
       "Veli    0.383710  0.802892 -0.651919\n",
       "Zeynep -0.297960  1.004880  1.752296\n",
       "Aslı    1.921218  0.111630  1.098514"
      ]
     },
     "execution_count": 16,
     "metadata": {},
     "output_type": "execute_result"
    }
   ],
   "source": [
    "yenidataFrame"
   ]
  },
  {
   "cell_type": "code",
   "execution_count": 17,
   "id": "3b714606",
   "metadata": {},
   "outputs": [
    {
     "data": {
      "text/plain": [
       "Ali      -1.159155\n",
       "Veli      0.383710\n",
       "Zeynep   -0.297960\n",
       "Aslı      1.921218\n",
       "Name: maas, dtype: float64"
      ]
     },
     "execution_count": 17,
     "metadata": {},
     "output_type": "execute_result"
    }
   ],
   "source": [
    "yenidataFrame[\"maas\"]"
   ]
  },
  {
   "cell_type": "code",
   "execution_count": 18,
   "id": "66876a5d",
   "metadata": {},
   "outputs": [
    {
     "data": {
      "text/plain": [
       "maas   -1.159155\n",
       "yaş    -0.668893\n",
       "saat   -1.144210\n",
       "Name: Ali, dtype: float64"
      ]
     },
     "execution_count": 18,
     "metadata": {},
     "output_type": "execute_result"
    }
   ],
   "source": [
    "yenidataFrame.loc[\"Ali\"]"
   ]
  },
  {
   "cell_type": "code",
   "execution_count": 19,
   "id": "7ba7474a",
   "metadata": {},
   "outputs": [
    {
     "data": {
      "text/plain": [
       "maas    0.383710\n",
       "yaş     0.802892\n",
       "saat   -0.651919\n",
       "Name: Veli, dtype: float64"
      ]
     },
     "execution_count": 19,
     "metadata": {},
     "output_type": "execute_result"
    }
   ],
   "source": [
    "yenidataFrame.iloc[1]"
   ]
  },
  {
   "cell_type": "code",
   "execution_count": 20,
   "id": "c81af91f",
   "metadata": {
    "scrolled": true
   },
   "outputs": [
    {
     "data": {
      "text/html": [
       "<div>\n",
       "<style scoped>\n",
       "    .dataframe tbody tr th:only-of-type {\n",
       "        vertical-align: middle;\n",
       "    }\n",
       "\n",
       "    .dataframe tbody tr th {\n",
       "        vertical-align: top;\n",
       "    }\n",
       "\n",
       "    .dataframe thead th {\n",
       "        text-align: right;\n",
       "    }\n",
       "</style>\n",
       "<table border=\"1\" class=\"dataframe\">\n",
       "  <thead>\n",
       "    <tr style=\"text-align: right;\">\n",
       "      <th></th>\n",
       "      <th>maas</th>\n",
       "      <th>yaş</th>\n",
       "      <th>saat</th>\n",
       "    </tr>\n",
       "  </thead>\n",
       "  <tbody>\n",
       "    <tr>\n",
       "      <th>Ali</th>\n",
       "      <td>-1.159155</td>\n",
       "      <td>-0.668893</td>\n",
       "      <td>-1.144210</td>\n",
       "    </tr>\n",
       "    <tr>\n",
       "      <th>Veli</th>\n",
       "      <td>0.383710</td>\n",
       "      <td>0.802892</td>\n",
       "      <td>-0.651919</td>\n",
       "    </tr>\n",
       "    <tr>\n",
       "      <th>Zeynep</th>\n",
       "      <td>-0.297960</td>\n",
       "      <td>1.004880</td>\n",
       "      <td>1.752296</td>\n",
       "    </tr>\n",
       "    <tr>\n",
       "      <th>Aslı</th>\n",
       "      <td>1.921218</td>\n",
       "      <td>0.111630</td>\n",
       "      <td>1.098514</td>\n",
       "    </tr>\n",
       "  </tbody>\n",
       "</table>\n",
       "</div>"
      ],
      "text/plain": [
       "            maas       yaş      saat\n",
       "Ali    -1.159155 -0.668893 -1.144210\n",
       "Veli    0.383710  0.802892 -0.651919\n",
       "Zeynep -0.297960  1.004880  1.752296\n",
       "Aslı    1.921218  0.111630  1.098514"
      ]
     },
     "execution_count": 20,
     "metadata": {},
     "output_type": "execute_result"
    }
   ],
   "source": [
    "yenidataFrame"
   ]
  },
  {
   "cell_type": "code",
   "execution_count": 33,
   "id": "ce7ab4df",
   "metadata": {},
   "outputs": [],
   "source": [
    "yenidataFrame[\"emeklilik yası\"] = yenidataFrame[\"yaş\"]*3"
   ]
  },
  {
   "cell_type": "code",
   "execution_count": 34,
   "id": "f1b9bed4",
   "metadata": {},
   "outputs": [
    {
     "data": {
      "text/html": [
       "<div>\n",
       "<style scoped>\n",
       "    .dataframe tbody tr th:only-of-type {\n",
       "        vertical-align: middle;\n",
       "    }\n",
       "\n",
       "    .dataframe tbody tr th {\n",
       "        vertical-align: top;\n",
       "    }\n",
       "\n",
       "    .dataframe thead th {\n",
       "        text-align: right;\n",
       "    }\n",
       "</style>\n",
       "<table border=\"1\" class=\"dataframe\">\n",
       "  <thead>\n",
       "    <tr style=\"text-align: right;\">\n",
       "      <th></th>\n",
       "      <th>maas</th>\n",
       "      <th>yaş</th>\n",
       "      <th>saat</th>\n",
       "      <th>emeklilik yası</th>\n",
       "    </tr>\n",
       "  </thead>\n",
       "  <tbody>\n",
       "    <tr>\n",
       "      <th>Ali</th>\n",
       "      <td>-1.159155</td>\n",
       "      <td>-0.668893</td>\n",
       "      <td>-1.144210</td>\n",
       "      <td>-2.006678</td>\n",
       "    </tr>\n",
       "    <tr>\n",
       "      <th>Veli</th>\n",
       "      <td>0.383710</td>\n",
       "      <td>0.802892</td>\n",
       "      <td>-0.651919</td>\n",
       "      <td>2.408675</td>\n",
       "    </tr>\n",
       "    <tr>\n",
       "      <th>Zeynep</th>\n",
       "      <td>-0.297960</td>\n",
       "      <td>1.004880</td>\n",
       "      <td>1.752296</td>\n",
       "      <td>3.014641</td>\n",
       "    </tr>\n",
       "    <tr>\n",
       "      <th>Aslı</th>\n",
       "      <td>1.921218</td>\n",
       "      <td>0.111630</td>\n",
       "      <td>1.098514</td>\n",
       "      <td>0.334891</td>\n",
       "    </tr>\n",
       "  </tbody>\n",
       "</table>\n",
       "</div>"
      ],
      "text/plain": [
       "            maas       yaş      saat  emeklilik yası\n",
       "Ali    -1.159155 -0.668893 -1.144210       -2.006678\n",
       "Veli    0.383710  0.802892 -0.651919        2.408675\n",
       "Zeynep -0.297960  1.004880  1.752296        3.014641\n",
       "Aslı    1.921218  0.111630  1.098514        0.334891"
      ]
     },
     "execution_count": 34,
     "metadata": {},
     "output_type": "execute_result"
    }
   ],
   "source": [
    "yenidataFrame"
   ]
  },
  {
   "cell_type": "code",
   "execution_count": 38,
   "id": "d0eefa2a",
   "metadata": {},
   "outputs": [
    {
     "data": {
      "text/html": [
       "<div>\n",
       "<style scoped>\n",
       "    .dataframe tbody tr th:only-of-type {\n",
       "        vertical-align: middle;\n",
       "    }\n",
       "\n",
       "    .dataframe tbody tr th {\n",
       "        vertical-align: top;\n",
       "    }\n",
       "\n",
       "    .dataframe thead th {\n",
       "        text-align: right;\n",
       "    }\n",
       "</style>\n",
       "<table border=\"1\" class=\"dataframe\">\n",
       "  <thead>\n",
       "    <tr style=\"text-align: right;\">\n",
       "      <th></th>\n",
       "      <th>maas</th>\n",
       "      <th>yaş</th>\n",
       "      <th>saat</th>\n",
       "    </tr>\n",
       "  </thead>\n",
       "  <tbody>\n",
       "    <tr>\n",
       "      <th>Ali</th>\n",
       "      <td>-1.159155</td>\n",
       "      <td>-0.668893</td>\n",
       "      <td>-1.144210</td>\n",
       "    </tr>\n",
       "    <tr>\n",
       "      <th>Veli</th>\n",
       "      <td>0.383710</td>\n",
       "      <td>0.802892</td>\n",
       "      <td>-0.651919</td>\n",
       "    </tr>\n",
       "    <tr>\n",
       "      <th>Zeynep</th>\n",
       "      <td>-0.297960</td>\n",
       "      <td>1.004880</td>\n",
       "      <td>1.752296</td>\n",
       "    </tr>\n",
       "    <tr>\n",
       "      <th>Aslı</th>\n",
       "      <td>1.921218</td>\n",
       "      <td>0.111630</td>\n",
       "      <td>1.098514</td>\n",
       "    </tr>\n",
       "  </tbody>\n",
       "</table>\n",
       "</div>"
      ],
      "text/plain": [
       "            maas       yaş      saat\n",
       "Ali    -1.159155 -0.668893 -1.144210\n",
       "Veli    0.383710  0.802892 -0.651919\n",
       "Zeynep -0.297960  1.004880  1.752296\n",
       "Aslı    1.921218  0.111630  1.098514"
      ]
     },
     "execution_count": 38,
     "metadata": {},
     "output_type": "execute_result"
    }
   ],
   "source": [
    "yenidataFrame.drop(\"emeklilik yası\",axis = 1)"
   ]
  },
  {
   "cell_type": "code",
   "execution_count": 39,
   "id": "830f9ce8",
   "metadata": {},
   "outputs": [
    {
     "data": {
      "text/html": [
       "<div>\n",
       "<style scoped>\n",
       "    .dataframe tbody tr th:only-of-type {\n",
       "        vertical-align: middle;\n",
       "    }\n",
       "\n",
       "    .dataframe tbody tr th {\n",
       "        vertical-align: top;\n",
       "    }\n",
       "\n",
       "    .dataframe thead th {\n",
       "        text-align: right;\n",
       "    }\n",
       "</style>\n",
       "<table border=\"1\" class=\"dataframe\">\n",
       "  <thead>\n",
       "    <tr style=\"text-align: right;\">\n",
       "      <th></th>\n",
       "      <th>maas</th>\n",
       "      <th>yaş</th>\n",
       "      <th>saat</th>\n",
       "      <th>emeklilik yası</th>\n",
       "    </tr>\n",
       "  </thead>\n",
       "  <tbody>\n",
       "    <tr>\n",
       "      <th>Ali</th>\n",
       "      <td>-1.159155</td>\n",
       "      <td>-0.668893</td>\n",
       "      <td>-1.144210</td>\n",
       "      <td>-2.006678</td>\n",
       "    </tr>\n",
       "    <tr>\n",
       "      <th>Veli</th>\n",
       "      <td>0.383710</td>\n",
       "      <td>0.802892</td>\n",
       "      <td>-0.651919</td>\n",
       "      <td>2.408675</td>\n",
       "    </tr>\n",
       "    <tr>\n",
       "      <th>Zeynep</th>\n",
       "      <td>-0.297960</td>\n",
       "      <td>1.004880</td>\n",
       "      <td>1.752296</td>\n",
       "      <td>3.014641</td>\n",
       "    </tr>\n",
       "  </tbody>\n",
       "</table>\n",
       "</div>"
      ],
      "text/plain": [
       "            maas       yaş      saat  emeklilik yası\n",
       "Ali    -1.159155 -0.668893 -1.144210       -2.006678\n",
       "Veli    0.383710  0.802892 -0.651919        2.408675\n",
       "Zeynep -0.297960  1.004880  1.752296        3.014641"
      ]
     },
     "execution_count": 39,
     "metadata": {},
     "output_type": "execute_result"
    }
   ],
   "source": [
    "yenidataFrame.drop.drop(\"Aslı\",axis = 0)"
   ]
  },
  {
   "cell_type": "code",
   "execution_count": 40,
   "id": "3c358124",
   "metadata": {},
   "outputs": [
    {
     "data": {
      "text/html": [
       "<div>\n",
       "<style scoped>\n",
       "    .dataframe tbody tr th:only-of-type {\n",
       "        vertical-align: middle;\n",
       "    }\n",
       "\n",
       "    .dataframe tbody tr th {\n",
       "        vertical-align: top;\n",
       "    }\n",
       "\n",
       "    .dataframe thead th {\n",
       "        text-align: right;\n",
       "    }\n",
       "</style>\n",
       "<table border=\"1\" class=\"dataframe\">\n",
       "  <thead>\n",
       "    <tr style=\"text-align: right;\">\n",
       "      <th></th>\n",
       "      <th>maas</th>\n",
       "      <th>yaş</th>\n",
       "      <th>saat</th>\n",
       "      <th>emeklilik yası</th>\n",
       "    </tr>\n",
       "  </thead>\n",
       "  <tbody>\n",
       "    <tr>\n",
       "      <th>Ali</th>\n",
       "      <td>-1.159155</td>\n",
       "      <td>-0.668893</td>\n",
       "      <td>-1.144210</td>\n",
       "      <td>-2.006678</td>\n",
       "    </tr>\n",
       "    <tr>\n",
       "      <th>Veli</th>\n",
       "      <td>0.383710</td>\n",
       "      <td>0.802892</td>\n",
       "      <td>-0.651919</td>\n",
       "      <td>2.408675</td>\n",
       "    </tr>\n",
       "    <tr>\n",
       "      <th>Zeynep</th>\n",
       "      <td>-0.297960</td>\n",
       "      <td>1.004880</td>\n",
       "      <td>1.752296</td>\n",
       "      <td>3.014641</td>\n",
       "    </tr>\n",
       "    <tr>\n",
       "      <th>Aslı</th>\n",
       "      <td>1.921218</td>\n",
       "      <td>0.111630</td>\n",
       "      <td>1.098514</td>\n",
       "      <td>0.334891</td>\n",
       "    </tr>\n",
       "  </tbody>\n",
       "</table>\n",
       "</div>"
      ],
      "text/plain": [
       "            maas       yaş      saat  emeklilik yası\n",
       "Ali    -1.159155 -0.668893 -1.144210       -2.006678\n",
       "Veli    0.383710  0.802892 -0.651919        2.408675\n",
       "Zeynep -0.297960  1.004880  1.752296        3.014641\n",
       "Aslı    1.921218  0.111630  1.098514        0.334891"
      ]
     },
     "execution_count": 40,
     "metadata": {},
     "output_type": "execute_result"
    }
   ],
   "source": [
    "yenidataFrame"
   ]
  },
  {
   "cell_type": "code",
   "execution_count": 41,
   "id": "2706a0fb",
   "metadata": {},
   "outputs": [],
   "source": [
    " yenidataFrame.drop(\"emeklilik yası\",axis = 1,inplace = True)"
   ]
  },
  {
   "cell_type": "code",
   "execution_count": 42,
   "id": "665225da",
   "metadata": {},
   "outputs": [
    {
     "data": {
      "text/html": [
       "<div>\n",
       "<style scoped>\n",
       "    .dataframe tbody tr th:only-of-type {\n",
       "        vertical-align: middle;\n",
       "    }\n",
       "\n",
       "    .dataframe tbody tr th {\n",
       "        vertical-align: top;\n",
       "    }\n",
       "\n",
       "    .dataframe thead th {\n",
       "        text-align: right;\n",
       "    }\n",
       "</style>\n",
       "<table border=\"1\" class=\"dataframe\">\n",
       "  <thead>\n",
       "    <tr style=\"text-align: right;\">\n",
       "      <th></th>\n",
       "      <th>maas</th>\n",
       "      <th>yaş</th>\n",
       "      <th>saat</th>\n",
       "    </tr>\n",
       "  </thead>\n",
       "  <tbody>\n",
       "    <tr>\n",
       "      <th>Ali</th>\n",
       "      <td>-1.159155</td>\n",
       "      <td>-0.668893</td>\n",
       "      <td>-1.144210</td>\n",
       "    </tr>\n",
       "    <tr>\n",
       "      <th>Veli</th>\n",
       "      <td>0.383710</td>\n",
       "      <td>0.802892</td>\n",
       "      <td>-0.651919</td>\n",
       "    </tr>\n",
       "    <tr>\n",
       "      <th>Zeynep</th>\n",
       "      <td>-0.297960</td>\n",
       "      <td>1.004880</td>\n",
       "      <td>1.752296</td>\n",
       "    </tr>\n",
       "    <tr>\n",
       "      <th>Aslı</th>\n",
       "      <td>1.921218</td>\n",
       "      <td>0.111630</td>\n",
       "      <td>1.098514</td>\n",
       "    </tr>\n",
       "  </tbody>\n",
       "</table>\n",
       "</div>"
      ],
      "text/plain": [
       "            maas       yaş      saat\n",
       "Ali    -1.159155 -0.668893 -1.144210\n",
       "Veli    0.383710  0.802892 -0.651919\n",
       "Zeynep -0.297960  1.004880  1.752296\n",
       "Aslı    1.921218  0.111630  1.098514"
      ]
     },
     "execution_count": 42,
     "metadata": {},
     "output_type": "execute_result"
    }
   ],
   "source": [
    "yenidataFrame"
   ]
  },
  {
   "cell_type": "code",
   "execution_count": 44,
   "id": "77fd5d93",
   "metadata": {},
   "outputs": [
    {
     "data": {
      "text/plain": [
       "-0.6688927244921778"
      ]
     },
     "execution_count": 44,
     "metadata": {},
     "output_type": "execute_result"
    }
   ],
   "source": [
    "yenidataFrame.loc[\"Ali\"][\"yaş\"]"
   ]
  },
  {
   "cell_type": "code",
   "execution_count": 46,
   "id": "31a676c2",
   "metadata": {},
   "outputs": [
    {
     "data": {
      "text/plain": [
       "-0.6688927244921778"
      ]
     },
     "execution_count": 46,
     "metadata": {},
     "output_type": "execute_result"
    }
   ],
   "source": [
    "yenidataFrame.loc[\"Ali\",\"yaş\"]"
   ]
  },
  {
   "cell_type": "code",
   "execution_count": 47,
   "id": "8e08b476",
   "metadata": {},
   "outputs": [
    {
     "data": {
      "text/html": [
       "<div>\n",
       "<style scoped>\n",
       "    .dataframe tbody tr th:only-of-type {\n",
       "        vertical-align: middle;\n",
       "    }\n",
       "\n",
       "    .dataframe tbody tr th {\n",
       "        vertical-align: top;\n",
       "    }\n",
       "\n",
       "    .dataframe thead th {\n",
       "        text-align: right;\n",
       "    }\n",
       "</style>\n",
       "<table border=\"1\" class=\"dataframe\">\n",
       "  <thead>\n",
       "    <tr style=\"text-align: right;\">\n",
       "      <th></th>\n",
       "      <th>maas</th>\n",
       "      <th>yaş</th>\n",
       "      <th>saat</th>\n",
       "    </tr>\n",
       "  </thead>\n",
       "  <tbody>\n",
       "    <tr>\n",
       "      <th>Ali</th>\n",
       "      <td>-1.159155</td>\n",
       "      <td>-0.668893</td>\n",
       "      <td>-1.144210</td>\n",
       "    </tr>\n",
       "    <tr>\n",
       "      <th>Veli</th>\n",
       "      <td>0.383710</td>\n",
       "      <td>0.802892</td>\n",
       "      <td>-0.651919</td>\n",
       "    </tr>\n",
       "    <tr>\n",
       "      <th>Zeynep</th>\n",
       "      <td>-0.297960</td>\n",
       "      <td>1.004880</td>\n",
       "      <td>1.752296</td>\n",
       "    </tr>\n",
       "    <tr>\n",
       "      <th>Aslı</th>\n",
       "      <td>1.921218</td>\n",
       "      <td>0.111630</td>\n",
       "      <td>1.098514</td>\n",
       "    </tr>\n",
       "  </tbody>\n",
       "</table>\n",
       "</div>"
      ],
      "text/plain": [
       "            maas       yaş      saat\n",
       "Ali    -1.159155 -0.668893 -1.144210\n",
       "Veli    0.383710  0.802892 -0.651919\n",
       "Zeynep -0.297960  1.004880  1.752296\n",
       "Aslı    1.921218  0.111630  1.098514"
      ]
     },
     "execution_count": 47,
     "metadata": {},
     "output_type": "execute_result"
    }
   ],
   "source": [
    "yenidataFrame"
   ]
  },
  {
   "cell_type": "code",
   "execution_count": 50,
   "id": "e4aebb20",
   "metadata": {},
   "outputs": [],
   "source": [
    "booleanFrame = yenidataFrame  <0"
   ]
  },
  {
   "cell_type": "code",
   "execution_count": 53,
   "id": "5daf1487",
   "metadata": {},
   "outputs": [
    {
     "data": {
      "text/html": [
       "<div>\n",
       "<style scoped>\n",
       "    .dataframe tbody tr th:only-of-type {\n",
       "        vertical-align: middle;\n",
       "    }\n",
       "\n",
       "    .dataframe tbody tr th {\n",
       "        vertical-align: top;\n",
       "    }\n",
       "\n",
       "    .dataframe thead th {\n",
       "        text-align: right;\n",
       "    }\n",
       "</style>\n",
       "<table border=\"1\" class=\"dataframe\">\n",
       "  <thead>\n",
       "    <tr style=\"text-align: right;\">\n",
       "      <th></th>\n",
       "      <th>maas</th>\n",
       "      <th>yaş</th>\n",
       "      <th>saat</th>\n",
       "    </tr>\n",
       "  </thead>\n",
       "  <tbody>\n",
       "    <tr>\n",
       "      <th>Ali</th>\n",
       "      <td>True</td>\n",
       "      <td>True</td>\n",
       "      <td>True</td>\n",
       "    </tr>\n",
       "    <tr>\n",
       "      <th>Veli</th>\n",
       "      <td>False</td>\n",
       "      <td>False</td>\n",
       "      <td>True</td>\n",
       "    </tr>\n",
       "    <tr>\n",
       "      <th>Zeynep</th>\n",
       "      <td>True</td>\n",
       "      <td>False</td>\n",
       "      <td>False</td>\n",
       "    </tr>\n",
       "    <tr>\n",
       "      <th>Aslı</th>\n",
       "      <td>False</td>\n",
       "      <td>False</td>\n",
       "      <td>False</td>\n",
       "    </tr>\n",
       "  </tbody>\n",
       "</table>\n",
       "</div>"
      ],
      "text/plain": [
       "         maas    yaş   saat\n",
       "Ali      True   True   True\n",
       "Veli    False  False   True\n",
       "Zeynep   True  False  False\n",
       "Aslı    False  False  False"
      ]
     },
     "execution_count": 53,
     "metadata": {},
     "output_type": "execute_result"
    }
   ],
   "source": [
    "booleanFrame"
   ]
  },
  {
   "cell_type": "code",
   "execution_count": 60,
   "id": "2e38b3dd",
   "metadata": {},
   "outputs": [
    {
     "data": {
      "text/html": [
       "<div>\n",
       "<style scoped>\n",
       "    .dataframe tbody tr th:only-of-type {\n",
       "        vertical-align: middle;\n",
       "    }\n",
       "\n",
       "    .dataframe tbody tr th {\n",
       "        vertical-align: top;\n",
       "    }\n",
       "\n",
       "    .dataframe thead th {\n",
       "        text-align: right;\n",
       "    }\n",
       "</style>\n",
       "<table border=\"1\" class=\"dataframe\">\n",
       "  <thead>\n",
       "    <tr style=\"text-align: right;\">\n",
       "      <th></th>\n",
       "      <th>maas</th>\n",
       "      <th>yaş</th>\n",
       "      <th>saat</th>\n",
       "    </tr>\n",
       "  </thead>\n",
       "  <tbody>\n",
       "    <tr>\n",
       "      <th>Ali</th>\n",
       "      <td>-1.159155</td>\n",
       "      <td>-0.668893</td>\n",
       "      <td>-1.144210</td>\n",
       "    </tr>\n",
       "    <tr>\n",
       "      <th>Veli</th>\n",
       "      <td>NaN</td>\n",
       "      <td>NaN</td>\n",
       "      <td>-0.651919</td>\n",
       "    </tr>\n",
       "    <tr>\n",
       "      <th>Zeynep</th>\n",
       "      <td>-0.297960</td>\n",
       "      <td>NaN</td>\n",
       "      <td>NaN</td>\n",
       "    </tr>\n",
       "    <tr>\n",
       "      <th>Aslı</th>\n",
       "      <td>NaN</td>\n",
       "      <td>NaN</td>\n",
       "      <td>NaN</td>\n",
       "    </tr>\n",
       "  </tbody>\n",
       "</table>\n",
       "</div>"
      ],
      "text/plain": [
       "            maas       yaş      saat\n",
       "Ali    -1.159155 -0.668893 -1.144210\n",
       "Veli         NaN       NaN -0.651919\n",
       "Zeynep -0.297960       NaN       NaN\n",
       "Aslı         NaN       NaN       NaN"
      ]
     },
     "execution_count": 60,
     "metadata": {},
     "output_type": "execute_result"
    }
   ],
   "source": [
    "yenidataFrame[booleanFrame]"
   ]
  },
  {
   "cell_type": "code",
   "execution_count": 61,
   "id": "d33f870c",
   "metadata": {},
   "outputs": [
    {
     "data": {
      "text/html": [
       "<div>\n",
       "<style scoped>\n",
       "    .dataframe tbody tr th:only-of-type {\n",
       "        vertical-align: middle;\n",
       "    }\n",
       "\n",
       "    .dataframe tbody tr th {\n",
       "        vertical-align: top;\n",
       "    }\n",
       "\n",
       "    .dataframe thead th {\n",
       "        text-align: right;\n",
       "    }\n",
       "</style>\n",
       "<table border=\"1\" class=\"dataframe\">\n",
       "  <thead>\n",
       "    <tr style=\"text-align: right;\">\n",
       "      <th></th>\n",
       "      <th>maas</th>\n",
       "      <th>yaş</th>\n",
       "      <th>saat</th>\n",
       "    </tr>\n",
       "  </thead>\n",
       "  <tbody>\n",
       "    <tr>\n",
       "      <th>Veli</th>\n",
       "      <td>0.383710</td>\n",
       "      <td>0.802892</td>\n",
       "      <td>-0.651919</td>\n",
       "    </tr>\n",
       "    <tr>\n",
       "      <th>Zeynep</th>\n",
       "      <td>-0.297960</td>\n",
       "      <td>1.004880</td>\n",
       "      <td>1.752296</td>\n",
       "    </tr>\n",
       "    <tr>\n",
       "      <th>Aslı</th>\n",
       "      <td>1.921218</td>\n",
       "      <td>0.111630</td>\n",
       "      <td>1.098514</td>\n",
       "    </tr>\n",
       "  </tbody>\n",
       "</table>\n",
       "</div>"
      ],
      "text/plain": [
       "            maas       yaş      saat\n",
       "Veli    0.383710  0.802892 -0.651919\n",
       "Zeynep -0.297960  1.004880  1.752296\n",
       "Aslı    1.921218  0.111630  1.098514"
      ]
     },
     "execution_count": 61,
     "metadata": {},
     "output_type": "execute_result"
    }
   ],
   "source": [
    "yenidataFrame[yenidataFrame[\"yaş\"] > 0]"
   ]
  },
  {
   "cell_type": "markdown",
   "id": "ca54a399",
   "metadata": {},
   "source": [
    "# index Değişimi"
   ]
  },
  {
   "cell_type": "code",
   "execution_count": 62,
   "id": "fba53d7e",
   "metadata": {},
   "outputs": [
    {
     "data": {
      "text/html": [
       "<div>\n",
       "<style scoped>\n",
       "    .dataframe tbody tr th:only-of-type {\n",
       "        vertical-align: middle;\n",
       "    }\n",
       "\n",
       "    .dataframe tbody tr th {\n",
       "        vertical-align: top;\n",
       "    }\n",
       "\n",
       "    .dataframe thead th {\n",
       "        text-align: right;\n",
       "    }\n",
       "</style>\n",
       "<table border=\"1\" class=\"dataframe\">\n",
       "  <thead>\n",
       "    <tr style=\"text-align: right;\">\n",
       "      <th></th>\n",
       "      <th>index</th>\n",
       "      <th>maas</th>\n",
       "      <th>yaş</th>\n",
       "      <th>saat</th>\n",
       "    </tr>\n",
       "  </thead>\n",
       "  <tbody>\n",
       "    <tr>\n",
       "      <th>0</th>\n",
       "      <td>Ali</td>\n",
       "      <td>-1.159155</td>\n",
       "      <td>-0.668893</td>\n",
       "      <td>-1.144210</td>\n",
       "    </tr>\n",
       "    <tr>\n",
       "      <th>1</th>\n",
       "      <td>Veli</td>\n",
       "      <td>0.383710</td>\n",
       "      <td>0.802892</td>\n",
       "      <td>-0.651919</td>\n",
       "    </tr>\n",
       "    <tr>\n",
       "      <th>2</th>\n",
       "      <td>Zeynep</td>\n",
       "      <td>-0.297960</td>\n",
       "      <td>1.004880</td>\n",
       "      <td>1.752296</td>\n",
       "    </tr>\n",
       "    <tr>\n",
       "      <th>3</th>\n",
       "      <td>Aslı</td>\n",
       "      <td>1.921218</td>\n",
       "      <td>0.111630</td>\n",
       "      <td>1.098514</td>\n",
       "    </tr>\n",
       "  </tbody>\n",
       "</table>\n",
       "</div>"
      ],
      "text/plain": [
       "    index      maas       yaş      saat\n",
       "0     Ali -1.159155 -0.668893 -1.144210\n",
       "1    Veli  0.383710  0.802892 -0.651919\n",
       "2  Zeynep -0.297960  1.004880  1.752296\n",
       "3    Aslı  1.921218  0.111630  1.098514"
      ]
     },
     "execution_count": 62,
     "metadata": {},
     "output_type": "execute_result"
    }
   ],
   "source": [
    "yenidataFrame.reset_index()"
   ]
  },
  {
   "cell_type": "code",
   "execution_count": 63,
   "id": "771333b0",
   "metadata": {},
   "outputs": [
    {
     "data": {
      "text/html": [
       "<div>\n",
       "<style scoped>\n",
       "    .dataframe tbody tr th:only-of-type {\n",
       "        vertical-align: middle;\n",
       "    }\n",
       "\n",
       "    .dataframe tbody tr th {\n",
       "        vertical-align: top;\n",
       "    }\n",
       "\n",
       "    .dataframe thead th {\n",
       "        text-align: right;\n",
       "    }\n",
       "</style>\n",
       "<table border=\"1\" class=\"dataframe\">\n",
       "  <thead>\n",
       "    <tr style=\"text-align: right;\">\n",
       "      <th></th>\n",
       "      <th>maas</th>\n",
       "      <th>yaş</th>\n",
       "      <th>saat</th>\n",
       "    </tr>\n",
       "  </thead>\n",
       "  <tbody>\n",
       "    <tr>\n",
       "      <th>Ali</th>\n",
       "      <td>-1.159155</td>\n",
       "      <td>-0.668893</td>\n",
       "      <td>-1.144210</td>\n",
       "    </tr>\n",
       "    <tr>\n",
       "      <th>Veli</th>\n",
       "      <td>0.383710</td>\n",
       "      <td>0.802892</td>\n",
       "      <td>-0.651919</td>\n",
       "    </tr>\n",
       "    <tr>\n",
       "      <th>Zeynep</th>\n",
       "      <td>-0.297960</td>\n",
       "      <td>1.004880</td>\n",
       "      <td>1.752296</td>\n",
       "    </tr>\n",
       "    <tr>\n",
       "      <th>Aslı</th>\n",
       "      <td>1.921218</td>\n",
       "      <td>0.111630</td>\n",
       "      <td>1.098514</td>\n",
       "    </tr>\n",
       "  </tbody>\n",
       "</table>\n",
       "</div>"
      ],
      "text/plain": [
       "            maas       yaş      saat\n",
       "Ali    -1.159155 -0.668893 -1.144210\n",
       "Veli    0.383710  0.802892 -0.651919\n",
       "Zeynep -0.297960  1.004880  1.752296\n",
       "Aslı    1.921218  0.111630  1.098514"
      ]
     },
     "execution_count": 63,
     "metadata": {},
     "output_type": "execute_result"
    }
   ],
   "source": [
    "yenidataFrame"
   ]
  },
  {
   "cell_type": "code",
   "execution_count": 66,
   "id": "560255a5",
   "metadata": {},
   "outputs": [],
   "source": [
    "yeniindex = [\"mahmut\",\"memet\",\"aysel\",\"burak\"]"
   ]
  },
  {
   "cell_type": "code",
   "execution_count": 67,
   "id": "d39ace63",
   "metadata": {},
   "outputs": [],
   "source": [
    "yenidataFrame[\"yeni index\"] = yeniindex"
   ]
  },
  {
   "cell_type": "code",
   "execution_count": 68,
   "id": "d4e59f44",
   "metadata": {},
   "outputs": [
    {
     "data": {
      "text/html": [
       "<div>\n",
       "<style scoped>\n",
       "    .dataframe tbody tr th:only-of-type {\n",
       "        vertical-align: middle;\n",
       "    }\n",
       "\n",
       "    .dataframe tbody tr th {\n",
       "        vertical-align: top;\n",
       "    }\n",
       "\n",
       "    .dataframe thead th {\n",
       "        text-align: right;\n",
       "    }\n",
       "</style>\n",
       "<table border=\"1\" class=\"dataframe\">\n",
       "  <thead>\n",
       "    <tr style=\"text-align: right;\">\n",
       "      <th></th>\n",
       "      <th>maas</th>\n",
       "      <th>yaş</th>\n",
       "      <th>saat</th>\n",
       "      <th>yeni index</th>\n",
       "    </tr>\n",
       "  </thead>\n",
       "  <tbody>\n",
       "    <tr>\n",
       "      <th>Ali</th>\n",
       "      <td>-1.159155</td>\n",
       "      <td>-0.668893</td>\n",
       "      <td>-1.144210</td>\n",
       "      <td>mahmut</td>\n",
       "    </tr>\n",
       "    <tr>\n",
       "      <th>Veli</th>\n",
       "      <td>0.383710</td>\n",
       "      <td>0.802892</td>\n",
       "      <td>-0.651919</td>\n",
       "      <td>memet</td>\n",
       "    </tr>\n",
       "    <tr>\n",
       "      <th>Zeynep</th>\n",
       "      <td>-0.297960</td>\n",
       "      <td>1.004880</td>\n",
       "      <td>1.752296</td>\n",
       "      <td>aysel</td>\n",
       "    </tr>\n",
       "    <tr>\n",
       "      <th>Aslı</th>\n",
       "      <td>1.921218</td>\n",
       "      <td>0.111630</td>\n",
       "      <td>1.098514</td>\n",
       "      <td>burak</td>\n",
       "    </tr>\n",
       "  </tbody>\n",
       "</table>\n",
       "</div>"
      ],
      "text/plain": [
       "            maas       yaş      saat yeni index\n",
       "Ali    -1.159155 -0.668893 -1.144210     mahmut\n",
       "Veli    0.383710  0.802892 -0.651919      memet\n",
       "Zeynep -0.297960  1.004880  1.752296      aysel\n",
       "Aslı    1.921218  0.111630  1.098514      burak"
      ]
     },
     "execution_count": 68,
     "metadata": {},
     "output_type": "execute_result"
    }
   ],
   "source": [
    "yenidataFrame"
   ]
  },
  {
   "cell_type": "code",
   "execution_count": 69,
   "id": "a3f1bd61",
   "metadata": {},
   "outputs": [
    {
     "data": {
      "text/html": [
       "<div>\n",
       "<style scoped>\n",
       "    .dataframe tbody tr th:only-of-type {\n",
       "        vertical-align: middle;\n",
       "    }\n",
       "\n",
       "    .dataframe tbody tr th {\n",
       "        vertical-align: top;\n",
       "    }\n",
       "\n",
       "    .dataframe thead th {\n",
       "        text-align: right;\n",
       "    }\n",
       "</style>\n",
       "<table border=\"1\" class=\"dataframe\">\n",
       "  <thead>\n",
       "    <tr style=\"text-align: right;\">\n",
       "      <th></th>\n",
       "      <th>maas</th>\n",
       "      <th>yaş</th>\n",
       "      <th>saat</th>\n",
       "    </tr>\n",
       "    <tr>\n",
       "      <th>yeni index</th>\n",
       "      <th></th>\n",
       "      <th></th>\n",
       "      <th></th>\n",
       "    </tr>\n",
       "  </thead>\n",
       "  <tbody>\n",
       "    <tr>\n",
       "      <th>mahmut</th>\n",
       "      <td>-1.159155</td>\n",
       "      <td>-0.668893</td>\n",
       "      <td>-1.144210</td>\n",
       "    </tr>\n",
       "    <tr>\n",
       "      <th>memet</th>\n",
       "      <td>0.383710</td>\n",
       "      <td>0.802892</td>\n",
       "      <td>-0.651919</td>\n",
       "    </tr>\n",
       "    <tr>\n",
       "      <th>aysel</th>\n",
       "      <td>-0.297960</td>\n",
       "      <td>1.004880</td>\n",
       "      <td>1.752296</td>\n",
       "    </tr>\n",
       "    <tr>\n",
       "      <th>burak</th>\n",
       "      <td>1.921218</td>\n",
       "      <td>0.111630</td>\n",
       "      <td>1.098514</td>\n",
       "    </tr>\n",
       "  </tbody>\n",
       "</table>\n",
       "</div>"
      ],
      "text/plain": [
       "                maas       yaş      saat\n",
       "yeni index                              \n",
       "mahmut     -1.159155 -0.668893 -1.144210\n",
       "memet       0.383710  0.802892 -0.651919\n",
       "aysel      -0.297960  1.004880  1.752296\n",
       "burak       1.921218  0.111630  1.098514"
      ]
     },
     "execution_count": 69,
     "metadata": {},
     "output_type": "execute_result"
    }
   ],
   "source": [
    "yenidataFrame.set_index(\"yeni index\")"
   ]
  },
  {
   "cell_type": "code",
   "execution_count": 70,
   "id": "777ed1b0",
   "metadata": {},
   "outputs": [
    {
     "data": {
      "text/html": [
       "<div>\n",
       "<style scoped>\n",
       "    .dataframe tbody tr th:only-of-type {\n",
       "        vertical-align: middle;\n",
       "    }\n",
       "\n",
       "    .dataframe tbody tr th {\n",
       "        vertical-align: top;\n",
       "    }\n",
       "\n",
       "    .dataframe thead th {\n",
       "        text-align: right;\n",
       "    }\n",
       "</style>\n",
       "<table border=\"1\" class=\"dataframe\">\n",
       "  <thead>\n",
       "    <tr style=\"text-align: right;\">\n",
       "      <th></th>\n",
       "      <th>maas</th>\n",
       "      <th>yaş</th>\n",
       "      <th>saat</th>\n",
       "      <th>yeni index</th>\n",
       "    </tr>\n",
       "  </thead>\n",
       "  <tbody>\n",
       "    <tr>\n",
       "      <th>Ali</th>\n",
       "      <td>-1.159155</td>\n",
       "      <td>-0.668893</td>\n",
       "      <td>-1.144210</td>\n",
       "      <td>mahmut</td>\n",
       "    </tr>\n",
       "    <tr>\n",
       "      <th>Veli</th>\n",
       "      <td>0.383710</td>\n",
       "      <td>0.802892</td>\n",
       "      <td>-0.651919</td>\n",
       "      <td>memet</td>\n",
       "    </tr>\n",
       "    <tr>\n",
       "      <th>Zeynep</th>\n",
       "      <td>-0.297960</td>\n",
       "      <td>1.004880</td>\n",
       "      <td>1.752296</td>\n",
       "      <td>aysel</td>\n",
       "    </tr>\n",
       "    <tr>\n",
       "      <th>Aslı</th>\n",
       "      <td>1.921218</td>\n",
       "      <td>0.111630</td>\n",
       "      <td>1.098514</td>\n",
       "      <td>burak</td>\n",
       "    </tr>\n",
       "  </tbody>\n",
       "</table>\n",
       "</div>"
      ],
      "text/plain": [
       "            maas       yaş      saat yeni index\n",
       "Ali    -1.159155 -0.668893 -1.144210     mahmut\n",
       "Veli    0.383710  0.802892 -0.651919      memet\n",
       "Zeynep -0.297960  1.004880  1.752296      aysel\n",
       "Aslı    1.921218  0.111630  1.098514      burak"
      ]
     },
     "execution_count": 70,
     "metadata": {},
     "output_type": "execute_result"
    }
   ],
   "source": [
    "yenidataFrame"
   ]
  },
  {
   "cell_type": "code",
   "execution_count": 71,
   "id": "4d213e60",
   "metadata": {},
   "outputs": [],
   "source": [
    "yenidataFrame.set_index(\"yeni index\", inplace = True)"
   ]
  },
  {
   "cell_type": "code",
   "execution_count": 72,
   "id": "f60c9c07",
   "metadata": {},
   "outputs": [
    {
     "data": {
      "text/html": [
       "<div>\n",
       "<style scoped>\n",
       "    .dataframe tbody tr th:only-of-type {\n",
       "        vertical-align: middle;\n",
       "    }\n",
       "\n",
       "    .dataframe tbody tr th {\n",
       "        vertical-align: top;\n",
       "    }\n",
       "\n",
       "    .dataframe thead th {\n",
       "        text-align: right;\n",
       "    }\n",
       "</style>\n",
       "<table border=\"1\" class=\"dataframe\">\n",
       "  <thead>\n",
       "    <tr style=\"text-align: right;\">\n",
       "      <th></th>\n",
       "      <th>maas</th>\n",
       "      <th>yaş</th>\n",
       "      <th>saat</th>\n",
       "    </tr>\n",
       "    <tr>\n",
       "      <th>yeni index</th>\n",
       "      <th></th>\n",
       "      <th></th>\n",
       "      <th></th>\n",
       "    </tr>\n",
       "  </thead>\n",
       "  <tbody>\n",
       "    <tr>\n",
       "      <th>mahmut</th>\n",
       "      <td>-1.159155</td>\n",
       "      <td>-0.668893</td>\n",
       "      <td>-1.144210</td>\n",
       "    </tr>\n",
       "    <tr>\n",
       "      <th>memet</th>\n",
       "      <td>0.383710</td>\n",
       "      <td>0.802892</td>\n",
       "      <td>-0.651919</td>\n",
       "    </tr>\n",
       "    <tr>\n",
       "      <th>aysel</th>\n",
       "      <td>-0.297960</td>\n",
       "      <td>1.004880</td>\n",
       "      <td>1.752296</td>\n",
       "    </tr>\n",
       "    <tr>\n",
       "      <th>burak</th>\n",
       "      <td>1.921218</td>\n",
       "      <td>0.111630</td>\n",
       "      <td>1.098514</td>\n",
       "    </tr>\n",
       "  </tbody>\n",
       "</table>\n",
       "</div>"
      ],
      "text/plain": [
       "                maas       yaş      saat\n",
       "yeni index                              \n",
       "mahmut     -1.159155 -0.668893 -1.144210\n",
       "memet       0.383710  0.802892 -0.651919\n",
       "aysel      -0.297960  1.004880  1.752296\n",
       "burak       1.921218  0.111630  1.098514"
      ]
     },
     "execution_count": 72,
     "metadata": {},
     "output_type": "execute_result"
    }
   ],
   "source": [
    "yenidataFrame"
   ]
  },
  {
   "cell_type": "markdown",
   "id": "67936c66",
   "metadata": {},
   "source": [
    "# çoklu index"
   ]
  },
  {
   "cell_type": "code",
   "execution_count": 73,
   "id": "884ec615",
   "metadata": {},
   "outputs": [],
   "source": [
    "ilkindex = [\"gül\",\"gül\",\"gül\",\"gezer\",\"gezer\",\"gezer\"]"
   ]
  },
  {
   "cell_type": "code",
   "execution_count": 74,
   "id": "a2e4881a",
   "metadata": {},
   "outputs": [],
   "source": [
    "icindex = [\"memet\",\"aysel\",\"burak\",\"eda\",\"enes\",\"nihat\"]"
   ]
  },
  {
   "cell_type": "code",
   "execution_count": 75,
   "id": "c1132f0e",
   "metadata": {},
   "outputs": [],
   "source": [
    "birlesmisindex = list(zip(ilkindex,icindex))"
   ]
  },
  {
   "cell_type": "code",
   "execution_count": 76,
   "id": "92af05a3",
   "metadata": {},
   "outputs": [
    {
     "data": {
      "text/plain": [
       "[('gül', 'memet'),\n",
       " ('gül', 'aysel'),\n",
       " ('gül', 'burak'),\n",
       " ('gezer', 'eda'),\n",
       " ('gezer', 'enes'),\n",
       " ('gezer', 'nihat')]"
      ]
     },
     "execution_count": 76,
     "metadata": {},
     "output_type": "execute_result"
    }
   ],
   "source": [
    "birlesmisindex"
   ]
  },
  {
   "cell_type": "code",
   "execution_count": 77,
   "id": "758bf9fe",
   "metadata": {},
   "outputs": [],
   "source": [
    "birlesmisindex = pd.MultiIndex.from_tuples(birlesmisindex)"
   ]
  },
  {
   "cell_type": "code",
   "execution_count": 78,
   "id": "27d79463",
   "metadata": {},
   "outputs": [
    {
     "data": {
      "text/plain": [
       "MultiIndex([(  'gül', 'memet'),\n",
       "            (  'gül', 'aysel'),\n",
       "            (  'gül', 'burak'),\n",
       "            ('gezer',   'eda'),\n",
       "            ('gezer',  'enes'),\n",
       "            ('gezer', 'nihat')],\n",
       "           )"
      ]
     },
     "execution_count": 78,
     "metadata": {},
     "output_type": "execute_result"
    }
   ],
   "source": [
    "birlesmisindex"
   ]
  },
  {
   "cell_type": "code",
   "execution_count": null,
   "id": "f6cb2ef3",
   "metadata": {},
   "outputs": [],
   "source": []
  }
 ],
 "metadata": {
  "kernelspec": {
   "display_name": "Python 3 (ipykernel)",
   "language": "python",
   "name": "python3"
  },
  "language_info": {
   "codemirror_mode": {
    "name": "ipython",
    "version": 3
   },
   "file_extension": ".py",
   "mimetype": "text/x-python",
   "name": "python",
   "nbconvert_exporter": "python",
   "pygments_lexer": "ipython3",
   "version": "3.11.4"
  }
 },
 "nbformat": 4,
 "nbformat_minor": 5
}
