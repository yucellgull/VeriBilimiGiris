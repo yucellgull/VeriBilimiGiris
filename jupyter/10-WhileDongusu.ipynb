{
 "cells": [
  {
   "cell_type": "code",
   "execution_count": 4,
   "id": "71714e18",
   "metadata": {},
   "outputs": [
    {
     "name": "stdout",
     "output_type": "stream",
     "text": [
      "0\n",
      "1\n",
      "2\n",
      "3\n",
      "4\n",
      "5\n",
      "6\n",
      "7\n",
      "8\n",
      "9\n"
     ]
    }
   ],
   "source": [
    "x = 0\n",
    "while x < 10:\n",
    "    print(x)\n",
    "    x = x+1"
   ]
  },
  {
   "cell_type": "code",
   "execution_count": 9,
   "id": "2817d774",
   "metadata": {},
   "outputs": [],
   "source": [
    "liste = [1,2,3,4,5]"
   ]
  },
  {
   "cell_type": "code",
   "execution_count": 10,
   "id": "03723e63",
   "metadata": {},
   "outputs": [
    {
     "data": {
      "text/plain": [
       "5"
      ]
     },
     "execution_count": 10,
     "metadata": {},
     "output_type": "execute_result"
    }
   ],
   "source": [
    "#listedeki son elemanı cıkar\n",
    "liste.pop()"
   ]
  },
  {
   "cell_type": "code",
   "execution_count": 11,
   "id": "e2f00684",
   "metadata": {},
   "outputs": [
    {
     "data": {
      "text/plain": [
       "[1, 2, 3, 4]"
      ]
     },
     "execution_count": 11,
     "metadata": {},
     "output_type": "execute_result"
    }
   ],
   "source": [
    "liste"
   ]
  },
  {
   "cell_type": "code",
   "execution_count": 12,
   "id": "f3b2c974",
   "metadata": {},
   "outputs": [
    {
     "name": "stdout",
     "output_type": "stream",
     "text": [
      "3 hala listede\n",
      "3 hala listede\n"
     ]
    }
   ],
   "source": [
    "#burada 3 listede varsa calıştır\n",
    "while 3 in liste:\n",
    "    print (\"3 hala listede\")\n",
    "    liste.pop()\n"
   ]
  },
  {
   "cell_type": "code",
   "execution_count": 13,
   "id": "0d1460f0",
   "metadata": {},
   "outputs": [],
   "source": [
    "#örnek"
   ]
  },
  {
   "cell_type": "code",
   "execution_count": 14,
   "id": "c2033bde",
   "metadata": {},
   "outputs": [
    {
     "name": "stdout",
     "output_type": "stream",
     "text": [
      "0\n",
      "1\n",
      "2\n",
      "3\n"
     ]
    }
   ],
   "source": [
    "numara = 0\n",
    "while numara<5:\n",
    "    if numara ==4:\n",
    "        break\n",
    "    print(numara)\n",
    "    numara = numara+1"
   ]
  },
  {
   "cell_type": "code",
   "execution_count": 15,
   "id": "03e8dddc",
   "metadata": {},
   "outputs": [],
   "source": [
    "#Örnek"
   ]
  },
  {
   "cell_type": "code",
   "execution_count": 20,
   "id": "46698804",
   "metadata": {},
   "outputs": [
    {
     "name": "stdout",
     "output_type": "stream",
     "text": [
      "yeni değişkenin güncel değeri :0\n",
      "yeni değişkenin güncel değeri :1\n",
      "yeni değişkenin güncel değeri :2\n",
      "yeni değişkenin güncel değeri :3\n",
      "yeni değişkenin güncel değeri :4\n",
      "yeni değişkenin güncel değeri :5\n",
      "yeni değişkenin güncel değeri :6\n",
      "yeni değişkenin güncel değeri :7\n",
      "yeni değişkenin güncel değeri :8\n",
      "yeni değişkenin güncel değeri :9\n",
      "yeni değişkenin güncel değeri :10\n",
      "yeni değişkenin güncel değeri :11\n",
      "yeni değişkenin güncel değeri :12\n",
      "yeni değişkenin güncel değeri :13\n",
      "yeni değişkenin güncel değeri :14\n"
     ]
    }
   ],
   "source": [
    "sayi = 0\n",
    "while sayi < 15:\n",
    "    print (f\"yeni değişkenin güncel değeri :{sayi}\")\n",
    "    sayi = sayi + 1"
   ]
  },
  {
   "cell_type": "code",
   "execution_count": null,
   "id": "d2671554",
   "metadata": {},
   "outputs": [],
   "source": []
  }
 ],
 "metadata": {
  "kernelspec": {
   "display_name": "Python 3 (ipykernel)",
   "language": "python",
   "name": "python3"
  },
  "language_info": {
   "codemirror_mode": {
    "name": "ipython",
    "version": 3
   },
   "file_extension": ".py",
   "mimetype": "text/x-python",
   "name": "python",
   "nbconvert_exporter": "python",
   "pygments_lexer": "ipython3",
   "version": "3.11.4"
  }
 },
 "nbformat": 4,
 "nbformat_minor": 5
}
