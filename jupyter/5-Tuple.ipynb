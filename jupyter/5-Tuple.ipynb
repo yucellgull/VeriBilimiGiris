{
 "cells": [
  {
   "cell_type": "code",
   "execution_count": 1,
   "id": "e9910850",
   "metadata": {},
   "outputs": [],
   "source": [
    "##Değiştilemezlik özelliği vardır"
   ]
  },
  {
   "cell_type": "code",
   "execution_count": 2,
   "id": "81992bff",
   "metadata": {},
   "outputs": [],
   "source": [
    "liste = [1,2,\"a\",4.5]"
   ]
  },
  {
   "cell_type": "code",
   "execution_count": 3,
   "id": "0813a2f0",
   "metadata": {},
   "outputs": [
    {
     "data": {
      "text/plain": [
       "2"
      ]
     },
     "execution_count": 3,
     "metadata": {},
     "output_type": "execute_result"
    }
   ],
   "source": [
    "liste[1]"
   ]
  },
  {
   "cell_type": "code",
   "execution_count": 4,
   "id": "6408cfbf",
   "metadata": {},
   "outputs": [],
   "source": [
    "liste[1] = 5"
   ]
  },
  {
   "cell_type": "code",
   "execution_count": 5,
   "id": "d645e26e",
   "metadata": {},
   "outputs": [
    {
     "data": {
      "text/plain": [
       "[1, 5, 'a', 4.5]"
      ]
     },
     "execution_count": 5,
     "metadata": {},
     "output_type": "execute_result"
    }
   ],
   "source": [
    "liste"
   ]
  },
  {
   "cell_type": "code",
   "execution_count": 6,
   "id": "5037c3fa",
   "metadata": {},
   "outputs": [],
   "source": [
    "bnmtuple = (1,2,\"a\",4.5)"
   ]
  },
  {
   "cell_type": "code",
   "execution_count": 7,
   "id": "0da4cc78",
   "metadata": {},
   "outputs": [
    {
     "data": {
      "text/plain": [
       "(1, 2, 'a', 4.5)"
      ]
     },
     "execution_count": 7,
     "metadata": {},
     "output_type": "execute_result"
    }
   ],
   "source": [
    "bnmtuple"
   ]
  },
  {
   "cell_type": "code",
   "execution_count": 9,
   "id": "f0681427",
   "metadata": {},
   "outputs": [],
   "source": [
    "# tuple de listedeki gibi değerleri değiştiremeyiz"
   ]
  },
  {
   "cell_type": "code",
   "execution_count": 10,
   "id": "72852247",
   "metadata": {},
   "outputs": [],
   "source": [
    "# bnmtuple[1] = 5"
   ]
  },
  {
   "cell_type": "code",
   "execution_count": 11,
   "id": "994367b3",
   "metadata": {},
   "outputs": [
    {
     "data": {
      "text/plain": [
       "1"
      ]
     },
     "execution_count": 11,
     "metadata": {},
     "output_type": "execute_result"
    }
   ],
   "source": [
    "bnmtuple.count(\"a\")"
   ]
  },
  {
   "cell_type": "code",
   "execution_count": 12,
   "id": "530bf642",
   "metadata": {},
   "outputs": [
    {
     "data": {
      "text/plain": [
       "3"
      ]
     },
     "execution_count": 12,
     "metadata": {},
     "output_type": "execute_result"
    }
   ],
   "source": [
    "bnmtuple.index(4.5)"
   ]
  },
  {
   "cell_type": "code",
   "execution_count": null,
   "id": "0c4c8d04",
   "metadata": {},
   "outputs": [],
   "source": []
  }
 ],
 "metadata": {
  "kernelspec": {
   "display_name": "Python 3 (ipykernel)",
   "language": "python",
   "name": "python3"
  },
  "language_info": {
   "codemirror_mode": {
    "name": "ipython",
    "version": 3
   },
   "file_extension": ".py",
   "mimetype": "text/x-python",
   "name": "python",
   "nbconvert_exporter": "python",
   "pygments_lexer": "ipython3",
   "version": "3.11.4"
  }
 },
 "nbformat": 4,
 "nbformat_minor": 5
}
