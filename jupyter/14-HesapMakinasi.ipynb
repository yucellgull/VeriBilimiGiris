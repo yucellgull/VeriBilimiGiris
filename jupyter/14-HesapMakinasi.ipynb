{
 "cells": [
  {
   "cell_type": "code",
   "execution_count": null,
   "id": "333e342c",
   "metadata": {},
   "outputs": [
    {
     "name": "stdout",
     "output_type": "stream",
     "text": [
      "İlk sayıyı Giriniz: 15\n",
      "İkinci Sayıyı Giriniz: 24\n",
      "İşleminizi seçiniz: + - * /*\n",
      "15 * 24 = 360\n",
      "İlk sayıyı Giriniz: a\n",
      "Lütfen Sayıları Düzgün Giriniz\n",
      "İlk sayıyı Giriniz: d\n",
      "Lütfen Sayıları Düzgün Giriniz\n",
      "İlk sayıyı Giriniz: 14\n",
      "İkinci Sayıyı Giriniz: s\n",
      "Lütfen Sayıları Düzgün Giriniz\n",
      "İlk sayıyı Giriniz: 45\n",
      "İkinci Sayıyı Giriniz: 35\n",
      "İşleminizi seçiniz: + - * /f\n",
      "Lütfen bu işlemlerden birini seçin +-*/\n",
      "Lütfen Sayıları Düzgün Giriniz\n"
     ]
    }
   ],
   "source": [
    "def hesapla(a,b,islem):\n",
    "    \n",
    "    if islem not in \"+-*/\":\n",
    "        return \"Lütfen bu işlemlerden birini seçin +-*/\"\n",
    "    \n",
    "    if islem == \"+\":\n",
    "        return (str(a)+ \" + \"+ str(b)+ \" = \" + str(a+b))\n",
    "    if islem == \"-\":\n",
    "        return (str(a)+ \" - \"+ str(b)+ \" = \" + str(a-b))\n",
    "    if islem == \"*\":\n",
    "        return (str(a)+ \" * \"+ str(b)+ \" = \" + str(a*b))\n",
    "    if islem == \"/\":\n",
    "        return (str(a)+ \" / \"+ str(b)+ \" = \" + str(a/b))\n",
    "\n",
    "while True:\n",
    "    try:\n",
    "        a = int(input(\"İlk sayıyı Giriniz: \"))\n",
    "        b = int(input(\"İkinci Sayıyı Giriniz: \"))\n",
    "        islem = input(\"İşleminizi seçiniz: + - * /\")\n",
    "\n",
    "        print(hesapla(a,b,islem))\n",
    "    except:\n",
    "        print(\"Lütfen Sayıları Düzgün Giriniz\")\n"
   ]
  }
 ],
 "metadata": {
  "kernelspec": {
   "display_name": "Python 3 (ipykernel)",
   "language": "python",
   "name": "python3"
  },
  "language_info": {
   "codemirror_mode": {
    "name": "ipython",
    "version": 3
   },
   "file_extension": ".py",
   "mimetype": "text/x-python",
   "name": "python",
   "nbconvert_exporter": "python",
   "pygments_lexer": "ipython3",
   "version": "3.11.4"
  }
 },
 "nbformat": 4,
 "nbformat_minor": 5
}
