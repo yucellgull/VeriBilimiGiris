{
 "cells": [
  {
   "cell_type": "code",
   "execution_count": 1,
   "id": "7873b392",
   "metadata": {},
   "outputs": [],
   "source": [
    "liste = [10,20,30,40,50,60]"
   ]
  },
  {
   "cell_type": "code",
   "execution_count": 2,
   "id": "34849177",
   "metadata": {},
   "outputs": [
    {
     "name": "stdout",
     "output_type": "stream",
     "text": [
      "10\n",
      "20\n",
      "30\n",
      "40\n",
      "50\n",
      "60\n"
     ]
    }
   ],
   "source": [
    "for numara in liste:\n",
    "    print(numara)"
   ]
  },
  {
   "cell_type": "code",
   "execution_count": 3,
   "id": "a4b3a09a",
   "metadata": {},
   "outputs": [
    {
     "name": "stdout",
     "output_type": "stream",
     "text": [
      "25.0\n",
      "50.0\n",
      "75.0\n",
      "100.0\n",
      "125.0\n",
      "150.0\n"
     ]
    }
   ],
   "source": [
    "for numara in liste:\n",
    "    print(numara *5/2)"
   ]
  },
  {
   "cell_type": "code",
   "execution_count": 4,
   "id": "54df2c9d",
   "metadata": {},
   "outputs": [
    {
     "name": "stdout",
     "output_type": "stream",
     "text": [
      "25.0\n",
      "50.0\n",
      "75.0\n",
      "100.0\n",
      "125.0\n",
      "150.0\n"
     ]
    }
   ],
   "source": [
    "for numara in liste:\n",
    "    yeninumara=numara *5/2\n",
    "    print(yeninumara)"
   ]
  },
  {
   "cell_type": "code",
   "execution_count": 5,
   "id": "8de5fc31",
   "metadata": {},
   "outputs": [],
   "source": [
    "##örnek"
   ]
  },
  {
   "cell_type": "code",
   "execution_count": 6,
   "id": "523b950f",
   "metadata": {},
   "outputs": [],
   "source": [
    "liste1 = [1,2,3,4,5,6,7,8,9]"
   ]
  },
  {
   "cell_type": "code",
   "execution_count": 16,
   "id": "4111b48e",
   "metadata": {},
   "outputs": [
    {
     "name": "stdout",
     "output_type": "stream",
     "text": [
      "1 rakamı tek\n",
      "2 rakamı çift\n",
      "3 rakamı tek\n",
      "4 rakamı çift\n",
      "5 rakamı tek\n",
      "6 rakamı çift\n",
      "7 rakamı tek\n"
     ]
    }
   ],
   "source": [
    "for rakam in liste1:\n",
    "    if rakam % 2 ==0:\n",
    "        print(f\"{rakam} rakamı çift\")\n",
    "    else:\n",
    "        print(f\"{rakam} rakamı tek\")"
   ]
  },
  {
   "cell_type": "code",
   "execution_count": null,
   "id": "e48b7281",
   "metadata": {},
   "outputs": [],
   "source": []
  }
 ],
 "metadata": {
  "kernelspec": {
   "display_name": "Python 3 (ipykernel)",
   "language": "python",
   "name": "python3"
  },
  "language_info": {
   "codemirror_mode": {
    "name": "ipython",
    "version": 3
   },
   "file_extension": ".py",
   "mimetype": "text/x-python",
   "name": "python",
   "nbconvert_exporter": "python",
   "pygments_lexer": "ipython3",
   "version": "3.11.4"
  }
 },
 "nbformat": 4,
 "nbformat_minor": 5
}
