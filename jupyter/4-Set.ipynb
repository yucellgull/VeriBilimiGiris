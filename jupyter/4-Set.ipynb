{
 "cells": [
  {
   "cell_type": "code",
   "execution_count": null,
   "id": "c3101193",
   "metadata": {},
   "outputs": [],
   "source": [
    "##Setleri kullanırken sadece bir kez tekrar eden veri vardır"
   ]
  },
  {
   "cell_type": "code",
   "execution_count": 8,
   "id": "8f48ccbc",
   "metadata": {},
   "outputs": [],
   "source": [
    "liste = [1,2,3,1,2,3]"
   ]
  },
  {
   "cell_type": "code",
   "execution_count": 9,
   "id": "9eb27d34",
   "metadata": {},
   "outputs": [
    {
     "data": {
      "text/plain": [
       "[1, 2, 3, 1, 2, 3]"
      ]
     },
     "execution_count": 9,
     "metadata": {},
     "output_type": "execute_result"
    }
   ],
   "source": [
    "liste"
   ]
  },
  {
   "cell_type": "code",
   "execution_count": 4,
   "id": "cca6fa5d",
   "metadata": {},
   "outputs": [],
   "source": [
    "benimsetim = set(liste)"
   ]
  },
  {
   "cell_type": "code",
   "execution_count": 5,
   "id": "1a116dcd",
   "metadata": {},
   "outputs": [
    {
     "data": {
      "text/plain": [
       "set"
      ]
     },
     "execution_count": 5,
     "metadata": {},
     "output_type": "execute_result"
    }
   ],
   "source": [
    "type(benimsetim)"
   ]
  },
  {
   "cell_type": "code",
   "execution_count": 6,
   "id": "b397cf03",
   "metadata": {},
   "outputs": [
    {
     "data": {
      "text/plain": [
       "{1, 2, 3}"
      ]
     },
     "execution_count": 6,
     "metadata": {},
     "output_type": "execute_result"
    }
   ],
   "source": [
    "benimsetim"
   ]
  },
  {
   "cell_type": "code",
   "execution_count": 10,
   "id": "c04871cd",
   "metadata": {},
   "outputs": [],
   "source": [
    "setim = {\"a\",\"b\",\"c\",\"c\"}"
   ]
  },
  {
   "cell_type": "code",
   "execution_count": 11,
   "id": "3f338605",
   "metadata": {},
   "outputs": [
    {
     "data": {
      "text/plain": [
       "set"
      ]
     },
     "execution_count": 11,
     "metadata": {},
     "output_type": "execute_result"
    }
   ],
   "source": [
    "type(setim)"
   ]
  },
  {
   "cell_type": "code",
   "execution_count": 12,
   "id": "51d735de",
   "metadata": {},
   "outputs": [
    {
     "data": {
      "text/plain": [
       "{'a', 'b', 'c'}"
      ]
     },
     "execution_count": 12,
     "metadata": {},
     "output_type": "execute_result"
    }
   ],
   "source": [
    "setim"
   ]
  }
 ],
 "metadata": {
  "kernelspec": {
   "display_name": "Python 3 (ipykernel)",
   "language": "python",
   "name": "python3"
  },
  "language_info": {
   "codemirror_mode": {
    "name": "ipython",
    "version": 3
   },
   "file_extension": ".py",
   "mimetype": "text/x-python",
   "name": "python",
   "nbconvert_exporter": "python",
   "pygments_lexer": "ipython3",
   "version": "3.11.4"
  }
 },
 "nbformat": 4,
 "nbformat_minor": 5
}
