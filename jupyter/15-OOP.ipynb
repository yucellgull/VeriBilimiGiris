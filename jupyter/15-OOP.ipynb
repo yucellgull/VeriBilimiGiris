{
 "cells": [
  {
   "cell_type": "code",
   "execution_count": 11,
   "id": "2eb775f9",
   "metadata": {},
   "outputs": [],
   "source": [
    "class Superkahraman():\n",
    "    \n",
    "    ozelguc = \"ucmak\"\n",
    "    def __init__(self,isiminput,yasinput,meslekinput):\n",
    "        print(\"init çağrıldı\")\n",
    "        self.isim = isiminput\n",
    "        self.yas = yasinput\n",
    "        self.meslek = meslekinput"
   ]
  },
  {
   "cell_type": "code",
   "execution_count": 12,
   "id": "b20ec342",
   "metadata": {},
   "outputs": [
    {
     "name": "stdout",
     "output_type": "stream",
     "text": [
      "init çağrıldı\n"
     ]
    }
   ],
   "source": [
    "supermen = Superkahraman(\"Supermen\",30,\"Gazeteci\")"
   ]
  },
  {
   "cell_type": "code",
   "execution_count": 13,
   "id": "6f3a21b3",
   "metadata": {},
   "outputs": [],
   "source": [
    "supermen.isim = \"Clark Kent\""
   ]
  },
  {
   "cell_type": "code",
   "execution_count": 14,
   "id": "6b582cb5",
   "metadata": {},
   "outputs": [
    {
     "data": {
      "text/plain": [
       "'Clark Kent'"
      ]
     },
     "execution_count": 14,
     "metadata": {},
     "output_type": "execute_result"
    }
   ],
   "source": [
    "supermen.isim"
   ]
  },
  {
   "cell_type": "code",
   "execution_count": 15,
   "id": "e6c1828e",
   "metadata": {},
   "outputs": [
    {
     "data": {
      "text/plain": [
       "30"
      ]
     },
     "execution_count": 15,
     "metadata": {},
     "output_type": "execute_result"
    }
   ],
   "source": [
    "supermen.yas"
   ]
  },
  {
   "cell_type": "code",
   "execution_count": 16,
   "id": "3d9581b7",
   "metadata": {},
   "outputs": [
    {
     "data": {
      "text/plain": [
       "'ucmak'"
      ]
     },
     "execution_count": 16,
     "metadata": {},
     "output_type": "execute_result"
    }
   ],
   "source": [
    "supermen.ozelguc"
   ]
  },
  {
   "cell_type": "code",
   "execution_count": null,
   "id": "90e3eb66",
   "metadata": {},
   "outputs": [],
   "source": []
  }
 ],
 "metadata": {
  "kernelspec": {
   "display_name": "Python 3 (ipykernel)",
   "language": "python",
   "name": "python3"
  },
  "language_info": {
   "codemirror_mode": {
    "name": "ipython",
    "version": 3
   },
   "file_extension": ".py",
   "mimetype": "text/x-python",
   "name": "python",
   "nbconvert_exporter": "python",
   "pygments_lexer": "ipython3",
   "version": "3.11.4"
  }
 },
 "nbformat": 4,
 "nbformat_minor": 5
}
