{
 "cells": [
  {
   "cell_type": "code",
   "execution_count": 1,
   "id": "767ae853",
   "metadata": {},
   "outputs": [],
   "source": [
    "yemekler = [\"Elma\",\"Karpuz\",\"Muz\"]"
   ]
  },
  {
   "cell_type": "code",
   "execution_count": 2,
   "id": "fba09584",
   "metadata": {},
   "outputs": [],
   "source": [
    "kalori = [100,200,300]"
   ]
  },
  {
   "cell_type": "code",
   "execution_count": 4,
   "id": "c88ae35d",
   "metadata": {},
   "outputs": [
    {
     "data": {
      "text/plain": [
       "'Karpuz'"
      ]
     },
     "execution_count": 4,
     "metadata": {},
     "output_type": "execute_result"
    }
   ],
   "source": [
    "yemekler[1]"
   ]
  },
  {
   "cell_type": "code",
   "execution_count": 5,
   "id": "8fb4299c",
   "metadata": {},
   "outputs": [
    {
     "data": {
      "text/plain": [
       "200"
      ]
     },
     "execution_count": 5,
     "metadata": {},
     "output_type": "execute_result"
    }
   ],
   "source": [
    "kalori[1]"
   ]
  },
  {
   "cell_type": "code",
   "execution_count": 6,
   "id": "228ad41a",
   "metadata": {},
   "outputs": [],
   "source": [
    "##Sözlük kullanımı"
   ]
  },
  {
   "cell_type": "code",
   "execution_count": 7,
   "id": "64a2fffd",
   "metadata": {},
   "outputs": [],
   "source": [
    "sozluk = {\"anahtarkelime\" : \"deger\"}"
   ]
  },
  {
   "cell_type": "code",
   "execution_count": 9,
   "id": "ad72770e",
   "metadata": {},
   "outputs": [
    {
     "data": {
      "text/plain": [
       "dict"
      ]
     },
     "execution_count": 9,
     "metadata": {},
     "output_type": "execute_result"
    }
   ],
   "source": [
    "type(sozluk)"
   ]
  },
  {
   "cell_type": "code",
   "execution_count": 10,
   "id": "ea7b20dc",
   "metadata": {},
   "outputs": [
    {
     "data": {
      "text/plain": [
       "'deger'"
      ]
     },
     "execution_count": 10,
     "metadata": {},
     "output_type": "execute_result"
    }
   ],
   "source": [
    "sozluk[\"anahtarkelime\"]"
   ]
  },
  {
   "cell_type": "code",
   "execution_count": 22,
   "id": "332f4c65",
   "metadata": {},
   "outputs": [],
   "source": [
    "bnmsozluk = {\"elma\" : 100, \"karpuz\" : 200, \"muz\" : 300}"
   ]
  },
  {
   "cell_type": "code",
   "execution_count": 23,
   "id": "0f23ed59",
   "metadata": {},
   "outputs": [
    {
     "data": {
      "text/plain": [
       "100"
      ]
     },
     "execution_count": 23,
     "metadata": {},
     "output_type": "execute_result"
    }
   ],
   "source": [
    "bnmsozluk[\"elma\"]"
   ]
  },
  {
   "cell_type": "code",
   "execution_count": 24,
   "id": "945fd58e",
   "metadata": {},
   "outputs": [],
   "source": [
    "bnmsozluk[\"elma\"] = 250"
   ]
  },
  {
   "cell_type": "code",
   "execution_count": 25,
   "id": "49144582",
   "metadata": {},
   "outputs": [
    {
     "data": {
      "text/plain": [
       "250"
      ]
     },
     "execution_count": 25,
     "metadata": {},
     "output_type": "execute_result"
    }
   ],
   "source": [
    "bnmsozluk[\"elma\"]"
   ]
  },
  {
   "cell_type": "code",
   "execution_count": null,
   "id": "ca958ff1",
   "metadata": {},
   "outputs": [],
   "source": []
  }
 ],
 "metadata": {
  "kernelspec": {
   "display_name": "Python 3 (ipykernel)",
   "language": "python",
   "name": "python3"
  },
  "language_info": {
   "codemirror_mode": {
    "name": "ipython",
    "version": 3
   },
   "file_extension": ".py",
   "mimetype": "text/x-python",
   "name": "python",
   "nbconvert_exporter": "python",
   "pygments_lexer": "ipython3",
   "version": "3.11.4"
  }
 },
 "nbformat": 4,
 "nbformat_minor": 5
}
