{
 "cells": [
  {
   "cell_type": "code",
   "execution_count": 1,
   "id": "8ce0a7d9",
   "metadata": {},
   "outputs": [],
   "source": [
    "bnmboolean = True"
   ]
  },
  {
   "cell_type": "code",
   "execution_count": 2,
   "id": "73a8d4c8",
   "metadata": {},
   "outputs": [
    {
     "data": {
      "text/plain": [
       "True"
      ]
     },
     "execution_count": 2,
     "metadata": {},
     "output_type": "execute_result"
    }
   ],
   "source": [
    "bnmboolean"
   ]
  },
  {
   "cell_type": "code",
   "execution_count": 3,
   "id": "33f57af9",
   "metadata": {},
   "outputs": [
    {
     "data": {
      "text/plain": [
       "bool"
      ]
     },
     "execution_count": 3,
     "metadata": {},
     "output_type": "execute_result"
    }
   ],
   "source": [
    "type(bnmboolean)"
   ]
  },
  {
   "cell_type": "code",
   "execution_count": 4,
   "id": "fd0df53c",
   "metadata": {},
   "outputs": [],
   "source": [
    "bnmboolean = False"
   ]
  },
  {
   "cell_type": "code",
   "execution_count": 5,
   "id": "98aece46",
   "metadata": {},
   "outputs": [
    {
     "data": {
      "text/plain": [
       "False"
      ]
     },
     "execution_count": 5,
     "metadata": {},
     "output_type": "execute_result"
    }
   ],
   "source": [
    "10<9"
   ]
  },
  {
   "cell_type": "code",
   "execution_count": 6,
   "id": "18993946",
   "metadata": {},
   "outputs": [
    {
     "data": {
      "text/plain": [
       "True"
      ]
     },
     "execution_count": 6,
     "metadata": {},
     "output_type": "execute_result"
    }
   ],
   "source": [
    "10<11"
   ]
  },
  {
   "cell_type": "code",
   "execution_count": 9,
   "id": "bb19b197",
   "metadata": {},
   "outputs": [],
   "source": [
    "liste = [100,300,400,600,800,900]"
   ]
  },
  {
   "cell_type": "code",
   "execution_count": 10,
   "id": "2f344567",
   "metadata": {},
   "outputs": [
    {
     "data": {
      "text/plain": [
       "6"
      ]
     },
     "execution_count": 10,
     "metadata": {},
     "output_type": "execute_result"
    }
   ],
   "source": [
    "len(liste)"
   ]
  },
  {
   "cell_type": "code",
   "execution_count": 12,
   "id": "3d5d5e0e",
   "metadata": {},
   "outputs": [
    {
     "data": {
      "text/plain": [
       "3100"
      ]
     },
     "execution_count": 12,
     "metadata": {},
     "output_type": "execute_result"
    }
   ],
   "source": [
    "sum(liste)"
   ]
  },
  {
   "cell_type": "code",
   "execution_count": 16,
   "id": "91c3c294",
   "metadata": {},
   "outputs": [],
   "source": [
    "ortalama = sum(liste) / len(liste)"
   ]
  },
  {
   "cell_type": "code",
   "execution_count": 17,
   "id": "40d17091",
   "metadata": {},
   "outputs": [
    {
     "data": {
      "text/plain": [
       "516.6666666666666"
      ]
     },
     "execution_count": 17,
     "metadata": {},
     "output_type": "execute_result"
    }
   ],
   "source": [
    "ortalama"
   ]
  },
  {
   "cell_type": "code",
   "execution_count": 18,
   "id": "6aa97e3c",
   "metadata": {},
   "outputs": [
    {
     "data": {
      "text/plain": [
       "False"
      ]
     },
     "execution_count": 18,
     "metadata": {},
     "output_type": "execute_result"
    }
   ],
   "source": [
    "liste[2] >ortalama"
   ]
  },
  {
   "cell_type": "code",
   "execution_count": 21,
   "id": "a54a988a",
   "metadata": {},
   "outputs": [
    {
     "name": "stdout",
     "output_type": "stream",
     "text": [
      "Kullanıcı maaşını giriniz: 2000\n"
     ]
    }
   ],
   "source": [
    "maas = input(\"Kullanıcı maaşını giriniz: \")"
   ]
  },
  {
   "cell_type": "code",
   "execution_count": 22,
   "id": "d6a89e42",
   "metadata": {},
   "outputs": [],
   "source": [
    "maas = int(maas)"
   ]
  },
  {
   "cell_type": "code",
   "execution_count": 23,
   "id": "90bd1724",
   "metadata": {},
   "outputs": [
    {
     "data": {
      "text/plain": [
       "True"
      ]
     },
     "execution_count": 23,
     "metadata": {},
     "output_type": "execute_result"
    }
   ],
   "source": [
    "maas > ortalama"
   ]
  },
  {
   "cell_type": "code",
   "execution_count": 24,
   "id": "783458e2",
   "metadata": {},
   "outputs": [],
   "source": [
    "#Karşılatırmalar"
   ]
  },
  {
   "cell_type": "code",
   "execution_count": 25,
   "id": "75088500",
   "metadata": {},
   "outputs": [],
   "source": [
    "x = 10\n",
    "y = 8"
   ]
  },
  {
   "cell_type": "code",
   "execution_count": 26,
   "id": "a07367d5",
   "metadata": {},
   "outputs": [
    {
     "data": {
      "text/plain": [
       "True"
      ]
     },
     "execution_count": 26,
     "metadata": {},
     "output_type": "execute_result"
    }
   ],
   "source": [
    "x>y"
   ]
  },
  {
   "cell_type": "code",
   "execution_count": 27,
   "id": "09537c88",
   "metadata": {},
   "outputs": [
    {
     "data": {
      "text/plain": [
       "False"
      ]
     },
     "execution_count": 27,
     "metadata": {},
     "output_type": "execute_result"
    }
   ],
   "source": [
    "x ==y"
   ]
  },
  {
   "cell_type": "code",
   "execution_count": 28,
   "id": "82da10b6",
   "metadata": {},
   "outputs": [
    {
     "data": {
      "text/plain": [
       "True"
      ]
     },
     "execution_count": 28,
     "metadata": {},
     "output_type": "execute_result"
    }
   ],
   "source": [
    "x != y"
   ]
  },
  {
   "cell_type": "code",
   "execution_count": 30,
   "id": "4b6d7369",
   "metadata": {},
   "outputs": [
    {
     "data": {
      "text/plain": [
       "False"
      ]
     },
     "execution_count": 30,
     "metadata": {},
     "output_type": "execute_result"
    }
   ],
   "source": [
    "1 > 3 and 3>2"
   ]
  },
  {
   "cell_type": "code",
   "execution_count": 31,
   "id": "8d5740ee",
   "metadata": {},
   "outputs": [
    {
     "data": {
      "text/plain": [
       "True"
      ]
     },
     "execution_count": 31,
     "metadata": {},
     "output_type": "execute_result"
    }
   ],
   "source": [
    "1 < 3 and 3>2"
   ]
  },
  {
   "cell_type": "code",
   "execution_count": 32,
   "id": "d879d837",
   "metadata": {},
   "outputs": [
    {
     "data": {
      "text/plain": [
       "True"
      ]
     },
     "execution_count": 32,
     "metadata": {},
     "output_type": "execute_result"
    }
   ],
   "source": [
    "1 > 3 or 3>2"
   ]
  },
  {
   "cell_type": "code",
   "execution_count": null,
   "id": "880955e4",
   "metadata": {},
   "outputs": [],
   "source": []
  }
 ],
 "metadata": {
  "kernelspec": {
   "display_name": "Python 3 (ipykernel)",
   "language": "python",
   "name": "python3"
  },
  "language_info": {
   "codemirror_mode": {
    "name": "ipython",
    "version": 3
   },
   "file_extension": ".py",
   "mimetype": "text/x-python",
   "name": "python",
   "nbconvert_exporter": "python",
   "pygments_lexer": "ipython3",
   "version": "3.11.4"
  }
 },
 "nbformat": 4,
 "nbformat_minor": 5
}
