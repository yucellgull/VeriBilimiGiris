{
 "cells": [
  {
   "cell_type": "code",
   "execution_count": 2,
   "id": "8f8d8c62",
   "metadata": {},
   "outputs": [],
   "source": [
    "def bolmeislemi(numara):\n",
    "    return numara/2"
   ]
  },
  {
   "cell_type": "code",
   "execution_count": 3,
   "id": "9b3bce45",
   "metadata": {},
   "outputs": [
    {
     "data": {
      "text/plain": [
       "12.0"
      ]
     },
     "execution_count": 3,
     "metadata": {},
     "output_type": "execute_result"
    }
   ],
   "source": [
    "bolmeislemi(24)"
   ]
  },
  {
   "cell_type": "code",
   "execution_count": 8,
   "id": "5b427383",
   "metadata": {},
   "outputs": [],
   "source": [
    "listem= list(range(11))"
   ]
  },
  {
   "cell_type": "code",
   "execution_count": 9,
   "id": "65f55427",
   "metadata": {},
   "outputs": [
    {
     "data": {
      "text/plain": [
       "[0, 1, 2, 3, 4, 5, 6, 7, 8, 9, 10]"
      ]
     },
     "execution_count": 9,
     "metadata": {},
     "output_type": "execute_result"
    }
   ],
   "source": [
    "listem"
   ]
  },
  {
   "cell_type": "code",
   "execution_count": 11,
   "id": "764c05bd",
   "metadata": {},
   "outputs": [],
   "source": [
    "yeniliste = []\n",
    "for eleman in listem:\n",
    "    yeniliste.append(bolmeislemi(eleman))"
   ]
  },
  {
   "cell_type": "code",
   "execution_count": 12,
   "id": "6dccc1f3",
   "metadata": {},
   "outputs": [
    {
     "data": {
      "text/plain": [
       "[0.0, 0.5, 1.0, 1.5, 2.0, 2.5, 3.0, 3.5, 4.0, 4.5, 5.0]"
      ]
     },
     "execution_count": 12,
     "metadata": {},
     "output_type": "execute_result"
    }
   ],
   "source": [
    "yeniliste"
   ]
  },
  {
   "cell_type": "markdown",
   "id": "8fb78b8d",
   "metadata": {},
   "source": [
    "# map"
   ]
  },
  {
   "cell_type": "code",
   "execution_count": 13,
   "id": "a310d85d",
   "metadata": {},
   "outputs": [
    {
     "data": {
      "text/plain": [
       "[0.0, 0.5, 1.0, 1.5, 2.0, 2.5, 3.0, 3.5, 4.0, 4.5, 5.0]"
      ]
     },
     "execution_count": 13,
     "metadata": {},
     "output_type": "execute_result"
    }
   ],
   "source": [
    "list(map(bolmeislemi,listem))"
   ]
  },
  {
   "cell_type": "code",
   "execution_count": 14,
   "id": "406aee76",
   "metadata": {},
   "outputs": [],
   "source": [
    "def kontrol(string):\n",
    "    return \"a\" in string"
   ]
  },
  {
   "cell_type": "code",
   "execution_count": 18,
   "id": "6ef31e0d",
   "metadata": {},
   "outputs": [
    {
     "data": {
      "text/plain": [
       "False"
      ]
     },
     "execution_count": 18,
     "metadata": {},
     "output_type": "execute_result"
    }
   ],
   "source": [
    "kontrol(\"yucel\")"
   ]
  },
  {
   "cell_type": "code",
   "execution_count": 17,
   "id": "a9e52130",
   "metadata": {},
   "outputs": [
    {
     "data": {
      "text/plain": [
       "True"
      ]
     },
     "execution_count": 17,
     "metadata": {},
     "output_type": "execute_result"
    }
   ],
   "source": [
    "kontrol(\"ayse\")"
   ]
  },
  {
   "cell_type": "code",
   "execution_count": 19,
   "id": "8e096f59",
   "metadata": {},
   "outputs": [],
   "source": [
    "stringliste = [\"ayse\",\"ali\",\"zeynep\",\"yucel\",\"mehmet\"]"
   ]
  },
  {
   "cell_type": "code",
   "execution_count": 22,
   "id": "7cce0e08",
   "metadata": {},
   "outputs": [],
   "source": [
    "sonuclistesi = list(map(kontrol,stringliste))"
   ]
  },
  {
   "cell_type": "code",
   "execution_count": 24,
   "id": "fab7e3b9",
   "metadata": {},
   "outputs": [
    {
     "data": {
      "text/plain": [
       "3"
      ]
     },
     "execution_count": 24,
     "metadata": {},
     "output_type": "execute_result"
    }
   ],
   "source": [
    "sonuclistesi.count(False)"
   ]
  },
  {
   "cell_type": "markdown",
   "id": "b77d09e2",
   "metadata": {},
   "source": [
    "# filter"
   ]
  },
  {
   "cell_type": "code",
   "execution_count": null,
   "id": "8f15ca9e",
   "metadata": {},
   "outputs": [],
   "source": [
    "#sadece true olanları listeye ekler"
   ]
  },
  {
   "cell_type": "code",
   "execution_count": 26,
   "id": "2ad07e9c",
   "metadata": {},
   "outputs": [
    {
     "data": {
      "text/plain": [
       "['ayse', 'ali']"
      ]
     },
     "execution_count": 26,
     "metadata": {},
     "output_type": "execute_result"
    }
   ],
   "source": [
    "list(filter(kontrol,stringliste))"
   ]
  },
  {
   "cell_type": "markdown",
   "id": "6d13ead5",
   "metadata": {},
   "source": [
    "# lambda"
   ]
  },
  {
   "cell_type": "code",
   "execution_count": 27,
   "id": "079aaadb",
   "metadata": {},
   "outputs": [],
   "source": [
    "#fonksiyonları değişken gibi göstermeye yarar"
   ]
  },
  {
   "cell_type": "code",
   "execution_count": 28,
   "id": "ddc28d14",
   "metadata": {},
   "outputs": [],
   "source": [
    "carpma = lambda numara : numara * 3"
   ]
  },
  {
   "cell_type": "code",
   "execution_count": 29,
   "id": "f91fd6c2",
   "metadata": {},
   "outputs": [
    {
     "data": {
      "text/plain": [
       "36"
      ]
     },
     "execution_count": 29,
     "metadata": {},
     "output_type": "execute_result"
    }
   ],
   "source": [
    "carpma(12)"
   ]
  },
  {
   "cell_type": "code",
   "execution_count": null,
   "id": "8b8f4945",
   "metadata": {},
   "outputs": [],
   "source": []
  }
 ],
 "metadata": {
  "kernelspec": {
   "display_name": "Python 3 (ipykernel)",
   "language": "python",
   "name": "python3"
  },
  "language_info": {
   "codemirror_mode": {
    "name": "ipython",
    "version": 3
   },
   "file_extension": ".py",
   "mimetype": "text/x-python",
   "name": "python",
   "nbconvert_exporter": "python",
   "pygments_lexer": "ipython3",
   "version": "3.11.4"
  }
 },
 "nbformat": 4,
 "nbformat_minor": 5
}
