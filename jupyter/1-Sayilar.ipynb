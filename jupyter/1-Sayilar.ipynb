{
 "cells": [
  {
   "cell_type": "markdown",
   "id": "16e4e609",
   "metadata": {},
   "source": [
    "## String"
   ]
  },
  {
   "cell_type": "code",
   "execution_count": 2,
   "id": "0685decf",
   "metadata": {},
   "outputs": [
    {
     "data": {
      "text/plain": [
       "'Merhaba Dünya'"
      ]
     },
     "execution_count": 2,
     "metadata": {},
     "output_type": "execute_result"
    }
   ],
   "source": [
    "\"Merhaba Dünya\""
   ]
  },
  {
   "cell_type": "code",
   "execution_count": 3,
   "id": "f46bd467",
   "metadata": {},
   "outputs": [],
   "source": [
    "x = \"Merhaba Dünya\""
   ]
  },
  {
   "cell_type": "code",
   "execution_count": 4,
   "id": "c7855e43",
   "metadata": {},
   "outputs": [],
   "source": [
    "x=10"
   ]
  },
  {
   "cell_type": "code",
   "execution_count": 5,
   "id": "56e62469",
   "metadata": {},
   "outputs": [
    {
     "data": {
      "text/plain": [
       "int"
      ]
     },
     "execution_count": 5,
     "metadata": {},
     "output_type": "execute_result"
    }
   ],
   "source": [
    "type(x)"
   ]
  },
  {
   "cell_type": "code",
   "execution_count": 6,
   "id": "8ad490c4",
   "metadata": {},
   "outputs": [],
   "source": [
    "y = \"yeni string\""
   ]
  },
  {
   "cell_type": "code",
   "execution_count": 8,
   "id": "931730b5",
   "metadata": {},
   "outputs": [
    {
     "data": {
      "text/plain": [
       "'Yeni string'"
      ]
     },
     "execution_count": 8,
     "metadata": {},
     "output_type": "execute_result"
    }
   ],
   "source": [
    "y.capitalize()"
   ]
  },
  {
   "cell_type": "code",
   "execution_count": 9,
   "id": "2d9f4928",
   "metadata": {},
   "outputs": [
    {
     "data": {
      "text/plain": [
       "['yeni', 'string']"
      ]
     },
     "execution_count": 9,
     "metadata": {},
     "output_type": "execute_result"
    }
   ],
   "source": [
    "y.split()"
   ]
  },
  {
   "cell_type": "code",
   "execution_count": 12,
   "id": "9c221676",
   "metadata": {},
   "outputs": [
    {
     "name": "stdout",
     "output_type": "stream",
     "text": [
      "Yaşınızı Giriniz: 25\n"
     ]
    }
   ],
   "source": [
    "benimInput = input(\"Yaşınızı Giriniz: \")"
   ]
  },
  {
   "cell_type": "code",
   "execution_count": 13,
   "id": "40ec16da",
   "metadata": {},
   "outputs": [],
   "source": [
    "benimIntInput = int(benimInput)"
   ]
  },
  {
   "cell_type": "code",
   "execution_count": 14,
   "id": "a87a0b2b",
   "metadata": {},
   "outputs": [
    {
     "data": {
      "text/plain": [
       "int"
      ]
     },
     "execution_count": 14,
     "metadata": {},
     "output_type": "execute_result"
    }
   ],
   "source": [
    "type(benimIntInput)"
   ]
  },
  {
   "cell_type": "code",
   "execution_count": 15,
   "id": "6a0fe3d9",
   "metadata": {},
   "outputs": [
    {
     "data": {
      "text/plain": [
       "25"
      ]
     },
     "execution_count": 15,
     "metadata": {},
     "output_type": "execute_result"
    }
   ],
   "source": [
    "benimIntInput"
   ]
  },
  {
   "cell_type": "markdown",
   "id": "5b07da6f",
   "metadata": {},
   "source": [
    "# Dilimleme"
   ]
  },
  {
   "cell_type": "code",
   "execution_count": 16,
   "id": "6a96f309",
   "metadata": {},
   "outputs": [],
   "source": [
    "isim =\"Yücel Gül\""
   ]
  },
  {
   "cell_type": "code",
   "execution_count": 17,
   "id": "39c7de21",
   "metadata": {},
   "outputs": [
    {
     "data": {
      "text/plain": [
       "'Y'"
      ]
     },
     "execution_count": 17,
     "metadata": {},
     "output_type": "execute_result"
    }
   ],
   "source": [
    "isim[0]"
   ]
  },
  {
   "cell_type": "code",
   "execution_count": 18,
   "id": "0813d693",
   "metadata": {},
   "outputs": [
    {
     "data": {
      "text/plain": [
       "'ü'"
      ]
     },
     "execution_count": 18,
     "metadata": {},
     "output_type": "execute_result"
    }
   ],
   "source": [
    "isim[7]"
   ]
  },
  {
   "cell_type": "code",
   "execution_count": 19,
   "id": "fb08f06d",
   "metadata": {},
   "outputs": [
    {
     "data": {
      "text/plain": [
       "'l'"
      ]
     },
     "execution_count": 19,
     "metadata": {},
     "output_type": "execute_result"
    }
   ],
   "source": [
    "isim[-1]"
   ]
  },
  {
   "cell_type": "code",
   "execution_count": 20,
   "id": "d570830c",
   "metadata": {},
   "outputs": [],
   "source": [
    "yeni = \"0123456789\""
   ]
  },
  {
   "cell_type": "code",
   "execution_count": 21,
   "id": "c576794e",
   "metadata": {},
   "outputs": [
    {
     "data": {
      "text/plain": [
       "'23456789'"
      ]
     },
     "execution_count": 21,
     "metadata": {},
     "output_type": "execute_result"
    }
   ],
   "source": [
    "yeni[2:]"
   ]
  },
  {
   "cell_type": "code",
   "execution_count": 23,
   "id": "629ac6cc",
   "metadata": {},
   "outputs": [
    {
     "data": {
      "text/plain": [
       "'012'"
      ]
     },
     "execution_count": 23,
     "metadata": {},
     "output_type": "execute_result"
    }
   ],
   "source": [
    "yeni[:3]"
   ]
  },
  {
   "cell_type": "code",
   "execution_count": 25,
   "id": "f5b76dcf",
   "metadata": {},
   "outputs": [
    {
     "data": {
      "text/plain": [
       "'0123456'"
      ]
     },
     "execution_count": 25,
     "metadata": {},
     "output_type": "execute_result"
    }
   ],
   "source": [
    "yeni[:-3]"
   ]
  },
  {
   "cell_type": "code",
   "execution_count": 26,
   "id": "caa50cd0",
   "metadata": {},
   "outputs": [
    {
     "data": {
      "text/plain": [
       "'89'"
      ]
     },
     "execution_count": 26,
     "metadata": {},
     "output_type": "execute_result"
    }
   ],
   "source": [
    "yeni[-2:]"
   ]
  },
  {
   "cell_type": "code",
   "execution_count": 27,
   "id": "44cc1b60",
   "metadata": {},
   "outputs": [
    {
     "data": {
      "text/plain": [
       "'2345'"
      ]
     },
     "execution_count": 27,
     "metadata": {},
     "output_type": "execute_result"
    }
   ],
   "source": [
    "yeni[2:6]"
   ]
  },
  {
   "cell_type": "code",
   "execution_count": 28,
   "id": "72413397",
   "metadata": {},
   "outputs": [
    {
     "data": {
      "text/plain": [
       "'02468'"
      ]
     },
     "execution_count": 28,
     "metadata": {},
     "output_type": "execute_result"
    }
   ],
   "source": [
    "yeni[::2]"
   ]
  },
  {
   "cell_type": "code",
   "execution_count": 29,
   "id": "c8a74e2f",
   "metadata": {},
   "outputs": [
    {
     "data": {
      "text/plain": [
       "'13'"
      ]
     },
     "execution_count": 29,
     "metadata": {},
     "output_type": "execute_result"
    }
   ],
   "source": [
    "yeni[1:5:2]"
   ]
  },
  {
   "cell_type": "code",
   "execution_count": 30,
   "id": "d258881b",
   "metadata": {},
   "outputs": [
    {
     "data": {
      "text/plain": [
       "'9876543210'"
      ]
     },
     "execution_count": 30,
     "metadata": {},
     "output_type": "execute_result"
    }
   ],
   "source": [
    "yeni[::-1]"
   ]
  },
  {
   "cell_type": "markdown",
   "id": "c025a733",
   "metadata": {},
   "source": [
    "# String Yöntemleri"
   ]
  },
  {
   "cell_type": "code",
   "execution_count": 31,
   "id": "6c4b9faa",
   "metadata": {},
   "outputs": [],
   "source": [
    "benimismim = \"yücel\""
   ]
  },
  {
   "cell_type": "code",
   "execution_count": 32,
   "id": "3f3074fb",
   "metadata": {},
   "outputs": [
    {
     "data": {
      "text/plain": [
       "'Yücel'"
      ]
     },
     "execution_count": 32,
     "metadata": {},
     "output_type": "execute_result"
    }
   ],
   "source": [
    "benimismim.capitalize()"
   ]
  },
  {
   "cell_type": "code",
   "execution_count": 33,
   "id": "a574c698",
   "metadata": {},
   "outputs": [
    {
     "data": {
      "text/plain": [
       "'yücel'"
      ]
     },
     "execution_count": 33,
     "metadata": {},
     "output_type": "execute_result"
    }
   ],
   "source": [
    "benimismim"
   ]
  },
  {
   "cell_type": "code",
   "execution_count": 34,
   "id": "2b937cda",
   "metadata": {},
   "outputs": [],
   "source": [
    "#Böyele olduğunda benimismim adlı değişken değişmez"
   ]
  },
  {
   "cell_type": "code",
   "execution_count": 35,
   "id": "035a7686",
   "metadata": {},
   "outputs": [],
   "source": [
    "yeni = benimismim.capitalize()"
   ]
  },
  {
   "cell_type": "code",
   "execution_count": 36,
   "id": "aa04e0c9",
   "metadata": {},
   "outputs": [
    {
     "data": {
      "text/plain": [
       "'Yücel'"
      ]
     },
     "execution_count": 36,
     "metadata": {},
     "output_type": "execute_result"
    }
   ],
   "source": [
    "yeni"
   ]
  },
  {
   "cell_type": "code",
   "execution_count": 37,
   "id": "7f659798",
   "metadata": {},
   "outputs": [],
   "source": [
    "adsoyad = \"Yücel Gül\""
   ]
  },
  {
   "cell_type": "code",
   "execution_count": 41,
   "id": "a43674a2",
   "metadata": {},
   "outputs": [],
   "source": [
    "liste = adsoyad.split()"
   ]
  },
  {
   "cell_type": "code",
   "execution_count": 42,
   "id": "59d7337a",
   "metadata": {},
   "outputs": [
    {
     "data": {
      "text/plain": [
       "'YÜCEL GÜL'"
      ]
     },
     "execution_count": 42,
     "metadata": {},
     "output_type": "execute_result"
    }
   ],
   "source": [
    "adsoyad.upper()"
   ]
  }
 ],
 "metadata": {
  "kernelspec": {
   "display_name": "Python 3 (ipykernel)",
   "language": "python",
   "name": "python3"
  },
  "language_info": {
   "codemirror_mode": {
    "name": "ipython",
    "version": 3
   },
   "file_extension": ".py",
   "mimetype": "text/x-python",
   "name": "python",
   "nbconvert_exporter": "python",
   "pygments_lexer": "ipython3",
   "version": "3.11.4"
  }
 },
 "nbformat": 4,
 "nbformat_minor": 5
}
