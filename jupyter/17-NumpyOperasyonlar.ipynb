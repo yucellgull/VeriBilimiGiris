{
 "cells": [
  {
   "cell_type": "code",
   "execution_count": 1,
   "id": "3589640f",
   "metadata": {},
   "outputs": [],
   "source": [
    "import numpy as np"
   ]
  },
  {
   "cell_type": "code",
   "execution_count": 2,
   "id": "ebfd800f",
   "metadata": {},
   "outputs": [],
   "source": [
    "dizi = np.arange(0,15)"
   ]
  },
  {
   "cell_type": "code",
   "execution_count": 5,
   "id": "d8d60bef",
   "metadata": {},
   "outputs": [
    {
     "data": {
      "text/plain": [
       "array([ 0,  1,  2,  3,  4,  5,  6,  7,  8,  9, 10, 11, 12, 13, 14])"
      ]
     },
     "execution_count": 5,
     "metadata": {},
     "output_type": "execute_result"
    }
   ],
   "source": [
    "dizi"
   ]
  },
  {
   "cell_type": "code",
   "execution_count": 6,
   "id": "873027ee",
   "metadata": {},
   "outputs": [
    {
     "data": {
      "text/plain": [
       "5"
      ]
     },
     "execution_count": 6,
     "metadata": {},
     "output_type": "execute_result"
    }
   ],
   "source": [
    "dizi[5]"
   ]
  },
  {
   "cell_type": "code",
   "execution_count": 7,
   "id": "62b1192e",
   "metadata": {},
   "outputs": [
    {
     "data": {
      "text/plain": [
       "array([3, 4, 5, 6, 7])"
      ]
     },
     "execution_count": 7,
     "metadata": {},
     "output_type": "execute_result"
    }
   ],
   "source": [
    "dizi[3:8]"
   ]
  },
  {
   "cell_type": "code",
   "execution_count": 10,
   "id": "e6b7ba59",
   "metadata": {},
   "outputs": [],
   "source": [
    "dizi[3:8] = -5"
   ]
  },
  {
   "cell_type": "code",
   "execution_count": 11,
   "id": "3c725d3b",
   "metadata": {},
   "outputs": [
    {
     "data": {
      "text/plain": [
       "array([ 0,  1,  2, -5, -5, -5, -5, -5,  8,  9, 10, 11, 12, 13, 14])"
      ]
     },
     "execution_count": 11,
     "metadata": {},
     "output_type": "execute_result"
    }
   ],
   "source": [
    "dizi"
   ]
  },
  {
   "cell_type": "code",
   "execution_count": 12,
   "id": "0dd3eaa8",
   "metadata": {},
   "outputs": [],
   "source": [
    "baskadizi= np.arange(0,24)"
   ]
  },
  {
   "cell_type": "code",
   "execution_count": 14,
   "id": "b67fa3f8",
   "metadata": {},
   "outputs": [
    {
     "data": {
      "text/plain": [
       "array([ 0,  1,  2,  3,  4,  5,  6,  7,  8,  9, 10, 11, 12, 13, 14, 15, 16,\n",
       "       17, 18, 19, 20, 21, 22, 23])"
      ]
     },
     "execution_count": 14,
     "metadata": {},
     "output_type": "execute_result"
    }
   ],
   "source": [
    "baskadizi"
   ]
  },
  {
   "cell_type": "code",
   "execution_count": null,
   "id": "375b34f6",
   "metadata": {},
   "outputs": [],
   "source": [
    "kesilendizi = baskadizi[3:11]"
   ]
  },
  {
   "cell_type": "code",
   "execution_count": 20,
   "id": "8ce92f3b",
   "metadata": {},
   "outputs": [
    {
     "data": {
      "text/plain": [
       "array([ 3,  4,  5,  6,  7,  8,  9, 10])"
      ]
     },
     "execution_count": 20,
     "metadata": {},
     "output_type": "execute_result"
    }
   ],
   "source": [
    "kesilendizi"
   ]
  },
  {
   "cell_type": "code",
   "execution_count": 21,
   "id": "e2b13543",
   "metadata": {},
   "outputs": [
    {
     "data": {
      "text/plain": [
       "array([ 0,  1,  2,  3,  4,  5,  6,  7,  8,  9, 10, 11, 12, 13, 14, 15, 16,\n",
       "       17, 18, 19, 20, 21, 22, 23])"
      ]
     },
     "execution_count": 21,
     "metadata": {},
     "output_type": "execute_result"
    }
   ],
   "source": [
    "baskadizi"
   ]
  },
  {
   "cell_type": "code",
   "execution_count": 22,
   "id": "1b105c3d",
   "metadata": {},
   "outputs": [],
   "source": [
    "kesilendizi[:] = 400"
   ]
  },
  {
   "cell_type": "code",
   "execution_count": 23,
   "id": "995fd96b",
   "metadata": {},
   "outputs": [
    {
     "data": {
      "text/plain": [
       "array([400, 400, 400, 400, 400, 400, 400, 400])"
      ]
     },
     "execution_count": 23,
     "metadata": {},
     "output_type": "execute_result"
    }
   ],
   "source": [
    "kesilendizi"
   ]
  },
  {
   "cell_type": "code",
   "execution_count": 24,
   "id": "a46ef046",
   "metadata": {},
   "outputs": [
    {
     "data": {
      "text/plain": [
       "array([  0,   1,   2, 400, 400, 400, 400, 400, 400, 400, 400,  11,  12,\n",
       "        13,  14,  15,  16,  17,  18,  19,  20,  21,  22,  23])"
      ]
     },
     "execution_count": 24,
     "metadata": {},
     "output_type": "execute_result"
    }
   ],
   "source": [
    "baskadizi"
   ]
  },
  {
   "cell_type": "markdown",
   "id": "3bd69ded",
   "metadata": {},
   "source": [
    "# matrix"
   ]
  },
  {
   "cell_type": "code",
   "execution_count": 25,
   "id": "e750aa62",
   "metadata": {},
   "outputs": [],
   "source": [
    "liste =[[10,20,30],[20,30,40],[40,50,60]]"
   ]
  },
  {
   "cell_type": "code",
   "execution_count": 26,
   "id": "aa0a62ac",
   "metadata": {},
   "outputs": [],
   "source": [
    "matrixdizi = np.array(liste)"
   ]
  },
  {
   "cell_type": "code",
   "execution_count": 27,
   "id": "152da478",
   "metadata": {},
   "outputs": [
    {
     "data": {
      "text/plain": [
       "array([[10, 20, 30],\n",
       "       [20, 30, 40],\n",
       "       [40, 50, 60]])"
      ]
     },
     "execution_count": 27,
     "metadata": {},
     "output_type": "execute_result"
    }
   ],
   "source": [
    "matrixdizi"
   ]
  },
  {
   "cell_type": "code",
   "execution_count": 28,
   "id": "10bdcc77",
   "metadata": {},
   "outputs": [
    {
     "data": {
      "text/plain": [
       "array([10, 20, 30])"
      ]
     },
     "execution_count": 28,
     "metadata": {},
     "output_type": "execute_result"
    }
   ],
   "source": [
    "matrixdizi[0]"
   ]
  },
  {
   "cell_type": "code",
   "execution_count": 29,
   "id": "1c7e138a",
   "metadata": {},
   "outputs": [
    {
     "data": {
      "text/plain": [
       "40"
      ]
     },
     "execution_count": 29,
     "metadata": {},
     "output_type": "execute_result"
    }
   ],
   "source": [
    "matrixdizi[1][2]"
   ]
  },
  {
   "cell_type": "code",
   "execution_count": 30,
   "id": "00ed3026",
   "metadata": {},
   "outputs": [
    {
     "data": {
      "text/plain": [
       "40"
      ]
     },
     "execution_count": 30,
     "metadata": {},
     "output_type": "execute_result"
    }
   ],
   "source": [
    "matrixdizi[1,2]"
   ]
  },
  {
   "cell_type": "code",
   "execution_count": 31,
   "id": "69cdace1",
   "metadata": {},
   "outputs": [
    {
     "data": {
      "text/plain": [
       "array([40, 60])"
      ]
     },
     "execution_count": 31,
     "metadata": {},
     "output_type": "execute_result"
    }
   ],
   "source": [
    "matrixdizi[1:,2]"
   ]
  },
  {
   "cell_type": "code",
   "execution_count": 32,
   "id": "eae836b1",
   "metadata": {},
   "outputs": [
    {
     "data": {
      "text/plain": [
       "array([30, 40, 60])"
      ]
     },
     "execution_count": 32,
     "metadata": {},
     "output_type": "execute_result"
    }
   ],
   "source": [
    "matrixdizi[0:,2]"
   ]
  },
  {
   "cell_type": "code",
   "execution_count": null,
   "id": "0be1a886",
   "metadata": {},
   "outputs": [],
   "source": []
  }
 ],
 "metadata": {
  "kernelspec": {
   "display_name": "Python 3 (ipykernel)",
   "language": "python",
   "name": "python3"
  },
  "language_info": {
   "codemirror_mode": {
    "name": "ipython",
    "version": 3
   },
   "file_extension": ".py",
   "mimetype": "text/x-python",
   "name": "python",
   "nbconvert_exporter": "python",
   "pygments_lexer": "ipython3",
   "version": "3.11.4"
  }
 },
 "nbformat": 4,
 "nbformat_minor": 5
}
