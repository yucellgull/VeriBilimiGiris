{
 "cells": [
  {
   "cell_type": "code",
   "execution_count": 1,
   "id": "1dcc107e",
   "metadata": {},
   "outputs": [
    {
     "data": {
      "text/plain": [
       "True"
      ]
     },
     "execution_count": 1,
     "metadata": {},
     "output_type": "execute_result"
    }
   ],
   "source": [
    "3 > 1"
   ]
  },
  {
   "cell_type": "code",
   "execution_count": 5,
   "id": "21e3dafb",
   "metadata": {},
   "outputs": [
    {
     "name": "stdout",
     "output_type": "stream",
     "text": [
      "Kotrol yalnış\n"
     ]
    }
   ],
   "source": [
    "if 3 > 4:\n",
    "    print(\"kotrol doğru\")\n",
    "else:\n",
    "    print(\"Kotrol yalnış\")"
   ]
  },
  {
   "cell_type": "code",
   "execution_count": 6,
   "id": "66726206",
   "metadata": {},
   "outputs": [],
   "source": [
    "a = 10\n",
    "b = 20\n",
    "c = 30"
   ]
  },
  {
   "cell_type": "code",
   "execution_count": 7,
   "id": "9ccb5a59",
   "metadata": {},
   "outputs": [
    {
     "name": "stdout",
     "output_type": "stream",
     "text": [
      "a,b'den kücük ve b  de c'den kücük\n"
     ]
    }
   ],
   "source": [
    "if a>b and b>c:\n",
    "    print(\"a,b'den büyük ve b  de c'den büyük\")\n",
    "elif a < b and b < c:\n",
    "    print(\"a,b'den kücük ve b  de c'den kücük\")\n",
    "else:\n",
    "    print(\"Koşullan karşılanamadı\")"
   ]
  },
  {
   "cell_type": "code",
   "execution_count": 9,
   "id": "208f5bc0",
   "metadata": {},
   "outputs": [],
   "source": [
    "karaktercanli = False"
   ]
  },
  {
   "cell_type": "code",
   "execution_count": 10,
   "id": "dc5657e1",
   "metadata": {},
   "outputs": [
    {
     "name": "stdout",
     "output_type": "stream",
     "text": [
      "Karakter ölü\n"
     ]
    }
   ],
   "source": [
    "if karaktercanli:\n",
    "    print(\"Karakter canli\")\n",
    "else:\n",
    "    print(\"Karakter ölü\")"
   ]
  },
  {
   "cell_type": "code",
   "execution_count": 11,
   "id": "e1c20f5c",
   "metadata": {},
   "outputs": [
    {
     "name": "stdout",
     "output_type": "stream",
     "text": [
      "Karakter ölü\n"
     ]
    }
   ],
   "source": [
    "if not karaktercanli:\n",
    "    print(\"Karakter ölü\")"
   ]
  },
  {
   "cell_type": "code",
   "execution_count": 12,
   "id": "c4aff386",
   "metadata": {},
   "outputs": [],
   "source": [
    "#örnek"
   ]
  },
  {
   "cell_type": "code",
   "execution_count": 13,
   "id": "34f2b810",
   "metadata": {},
   "outputs": [],
   "source": [
    "string = \"Yücel Gül\""
   ]
  },
  {
   "cell_type": "code",
   "execution_count": 16,
   "id": "de7ded8e",
   "metadata": {},
   "outputs": [
    {
     "name": "stdout",
     "output_type": "stream",
     "text": [
      "Var\n"
     ]
    }
   ],
   "source": [
    "if \"Gül\" in string:\n",
    "    print(\"Var\")\n",
    "else:\n",
    "    print(\"Yok\")"
   ]
  },
  {
   "cell_type": "code",
   "execution_count": 17,
   "id": "5b630836",
   "metadata": {},
   "outputs": [
    {
     "name": "stdout",
     "output_type": "stream",
     "text": [
      "Yok\n"
     ]
    }
   ],
   "source": [
    "if \"gül\" in string:\n",
    "    print(\"Var\")\n",
    "else:\n",
    "    print(\"Yok\")"
   ]
  },
  {
   "cell_type": "code",
   "execution_count": null,
   "id": "dbd8b121",
   "metadata": {},
   "outputs": [],
   "source": []
  }
 ],
 "metadata": {
  "kernelspec": {
   "display_name": "Python 3 (ipykernel)",
   "language": "python",
   "name": "python3"
  },
  "language_info": {
   "codemirror_mode": {
    "name": "ipython",
    "version": 3
   },
   "file_extension": ".py",
   "mimetype": "text/x-python",
   "name": "python",
   "nbconvert_exporter": "python",
   "pygments_lexer": "ipython3",
   "version": "3.11.4"
  }
 },
 "nbformat": 4,
 "nbformat_minor": 5
}
