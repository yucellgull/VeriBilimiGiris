{
 "cells": [
  {
   "cell_type": "markdown",
   "id": "7ebda79a",
   "metadata": {},
   "source": [
    "# Listelere Giriş"
   ]
  },
  {
   "cell_type": "code",
   "execution_count": 1,
   "id": "78fc8149",
   "metadata": {},
   "outputs": [],
   "source": [
    "isim = \"Yücel Gül\""
   ]
  },
  {
   "cell_type": "code",
   "execution_count": 2,
   "id": "6457954d",
   "metadata": {},
   "outputs": [
    {
     "data": {
      "text/plain": [
       "'c'"
      ]
     },
     "execution_count": 2,
     "metadata": {},
     "output_type": "execute_result"
    }
   ],
   "source": [
    "isim[2]"
   ]
  },
  {
   "cell_type": "code",
   "execution_count": 3,
   "id": "ac6bd6c2",
   "metadata": {},
   "outputs": [],
   "source": [
    "#bu şekildeki indexler dğişmez yani\n",
    "#ikinci indez i a yapamayız"
   ]
  },
  {
   "cell_type": "code",
   "execution_count": 19,
   "id": "907be40e",
   "metadata": {},
   "outputs": [],
   "source": [
    "liste =[10,20,30,40]"
   ]
  },
  {
   "cell_type": "code",
   "execution_count": 5,
   "id": "9aefb4d8",
   "metadata": {},
   "outputs": [
    {
     "data": {
      "text/plain": [
       "40"
      ]
     },
     "execution_count": 5,
     "metadata": {},
     "output_type": "execute_result"
    }
   ],
   "source": [
    "liste[3]"
   ]
  },
  {
   "cell_type": "code",
   "execution_count": 6,
   "id": "14fce747",
   "metadata": {},
   "outputs": [],
   "source": [
    "x = 50\n",
    "y = 60"
   ]
  },
  {
   "cell_type": "code",
   "execution_count": 14,
   "id": "3d00d374",
   "metadata": {},
   "outputs": [],
   "source": [
    "noliste = [x,y]"
   ]
  },
  {
   "cell_type": "code",
   "execution_count": 17,
   "id": "10b596f5",
   "metadata": {},
   "outputs": [
    {
     "data": {
      "text/plain": [
       "[50, 60]"
      ]
     },
     "execution_count": 17,
     "metadata": {},
     "output_type": "execute_result"
    }
   ],
   "source": [
    "noliste"
   ]
  },
  {
   "cell_type": "code",
   "execution_count": 20,
   "id": "75f00eff",
   "metadata": {},
   "outputs": [
    {
     "data": {
      "text/plain": [
       "[10, 20, 30, 40]"
      ]
     },
     "execution_count": 20,
     "metadata": {},
     "output_type": "execute_result"
    }
   ],
   "source": [
    "liste"
   ]
  },
  {
   "cell_type": "code",
   "execution_count": 21,
   "id": "8b862cd6",
   "metadata": {},
   "outputs": [],
   "source": [
    "liste[0] = 100 "
   ]
  },
  {
   "cell_type": "code",
   "execution_count": 37,
   "id": "08a9e721",
   "metadata": {},
   "outputs": [
    {
     "data": {
      "text/plain": [
       "[100, 20, 30, 25]"
      ]
     },
     "execution_count": 37,
     "metadata": {},
     "output_type": "execute_result"
    }
   ],
   "source": [
    "liste"
   ]
  },
  {
   "cell_type": "code",
   "execution_count": 25,
   "id": "fcdb5bb7",
   "metadata": {},
   "outputs": [],
   "source": [
    "#listeye ekleme"
   ]
  },
  {
   "cell_type": "code",
   "execution_count": 38,
   "id": "d418e254",
   "metadata": {},
   "outputs": [],
   "source": [
    "liste.append(40)"
   ]
  },
  {
   "cell_type": "code",
   "execution_count": 39,
   "id": "4b0b99a7",
   "metadata": {},
   "outputs": [
    {
     "data": {
      "text/plain": [
       "[100, 20, 30, 25, 40]"
      ]
     },
     "execution_count": 39,
     "metadata": {},
     "output_type": "execute_result"
    }
   ],
   "source": [
    "liste"
   ]
  },
  {
   "cell_type": "code",
   "execution_count": 40,
   "id": "48540594",
   "metadata": {},
   "outputs": [],
   "source": [
    "#Son elemanı atmaya yarar"
   ]
  },
  {
   "cell_type": "code",
   "execution_count": 41,
   "id": "e0c214f2",
   "metadata": {},
   "outputs": [
    {
     "data": {
      "text/plain": [
       "40"
      ]
     },
     "execution_count": 41,
     "metadata": {},
     "output_type": "execute_result"
    }
   ],
   "source": [
    "liste.pop()"
   ]
  },
  {
   "cell_type": "code",
   "execution_count": 42,
   "id": "444ce234",
   "metadata": {},
   "outputs": [
    {
     "data": {
      "text/plain": [
       "[100, 20, 30, 25]"
      ]
     },
     "execution_count": 42,
     "metadata": {},
     "output_type": "execute_result"
    }
   ],
   "source": [
    "liste"
   ]
  },
  {
   "cell_type": "code",
   "execution_count": 43,
   "id": "8b3475b1",
   "metadata": {},
   "outputs": [],
   "source": [
    "liste.remove(20)"
   ]
  },
  {
   "cell_type": "code",
   "execution_count": 44,
   "id": "0824b6a3",
   "metadata": {},
   "outputs": [
    {
     "data": {
      "text/plain": [
       "[100, 30, 25]"
      ]
     },
     "execution_count": 44,
     "metadata": {},
     "output_type": "execute_result"
    }
   ],
   "source": [
    "liste"
   ]
  },
  {
   "cell_type": "code",
   "execution_count": 45,
   "id": "04004112",
   "metadata": {},
   "outputs": [],
   "source": [
    "#listedeki elemandan kac tane olduğunu sayar"
   ]
  },
  {
   "cell_type": "code",
   "execution_count": 46,
   "id": "e81f94c1",
   "metadata": {},
   "outputs": [],
   "source": [
    "liste.append(44)"
   ]
  },
  {
   "cell_type": "code",
   "execution_count": 47,
   "id": "7b59490a",
   "metadata": {},
   "outputs": [],
   "source": [
    "liste.append(30)"
   ]
  },
  {
   "cell_type": "code",
   "execution_count": 48,
   "id": "fdff2159",
   "metadata": {},
   "outputs": [
    {
     "data": {
      "text/plain": [
       "[100, 30, 25, 44, 30]"
      ]
     },
     "execution_count": 48,
     "metadata": {},
     "output_type": "execute_result"
    }
   ],
   "source": [
    "liste"
   ]
  },
  {
   "cell_type": "code",
   "execution_count": 49,
   "id": "415f3174",
   "metadata": {},
   "outputs": [
    {
     "data": {
      "text/plain": [
       "2"
      ]
     },
     "execution_count": 49,
     "metadata": {},
     "output_type": "execute_result"
    }
   ],
   "source": [
    "liste.count(30)"
   ]
  },
  {
   "cell_type": "code",
   "execution_count": 50,
   "id": "790175d9",
   "metadata": {},
   "outputs": [],
   "source": [
    "liste2 =[\"a\",\"b\",\"c\",\"d\"]"
   ]
  },
  {
   "cell_type": "code",
   "execution_count": 51,
   "id": "8431a6fa",
   "metadata": {},
   "outputs": [],
   "source": [
    "yeni = liste +liste2"
   ]
  },
  {
   "cell_type": "code",
   "execution_count": 52,
   "id": "38ec5ebd",
   "metadata": {},
   "outputs": [
    {
     "data": {
      "text/plain": [
       "[100, 30, 25, 44, 30, 'a', 'b', 'c', 'd']"
      ]
     },
     "execution_count": 52,
     "metadata": {},
     "output_type": "execute_result"
    }
   ],
   "source": [
    "yeni"
   ]
  },
  {
   "cell_type": "code",
   "execution_count": 54,
   "id": "c53b39ac",
   "metadata": {},
   "outputs": [
    {
     "data": {
      "text/plain": [
       "['a', 'b', 'c', 'd', 'a', 'b', 'c', 'd', 'a', 'b', 'c', 'd']"
      ]
     },
     "execution_count": 54,
     "metadata": {},
     "output_type": "execute_result"
    }
   ],
   "source": [
    "liste2*3"
   ]
  },
  {
   "cell_type": "code",
   "execution_count": 55,
   "id": "a3076473",
   "metadata": {},
   "outputs": [],
   "source": [
    "yeni.reverse()"
   ]
  },
  {
   "cell_type": "code",
   "execution_count": 56,
   "id": "8e6d7c21",
   "metadata": {},
   "outputs": [
    {
     "data": {
      "text/plain": [
       "['d', 'c', 'b', 'a', 30, 44, 25, 30, 100]"
      ]
     },
     "execution_count": 56,
     "metadata": {},
     "output_type": "execute_result"
    }
   ],
   "source": [
    "yeni"
   ]
  },
  {
   "cell_type": "code",
   "execution_count": 57,
   "id": "1cffb441",
   "metadata": {},
   "outputs": [],
   "source": [
    "krskliste= [1,5,\"ali\",4,[6,\"d\"]]"
   ]
  },
  {
   "cell_type": "code",
   "execution_count": 59,
   "id": "1d46cffa",
   "metadata": {},
   "outputs": [
    {
     "data": {
      "text/plain": [
       "'ali'"
      ]
     },
     "execution_count": 59,
     "metadata": {},
     "output_type": "execute_result"
    }
   ],
   "source": [
    "krskliste[2]"
   ]
  },
  {
   "cell_type": "code",
   "execution_count": 60,
   "id": "948ffe12",
   "metadata": {},
   "outputs": [
    {
     "data": {
      "text/plain": [
       "[6, 'd']"
      ]
     },
     "execution_count": 60,
     "metadata": {},
     "output_type": "execute_result"
    }
   ],
   "source": [
    "krskliste[4]"
   ]
  },
  {
   "cell_type": "code",
   "execution_count": 61,
   "id": "89219551",
   "metadata": {},
   "outputs": [
    {
     "data": {
      "text/plain": [
       "'d'"
      ]
     },
     "execution_count": 61,
     "metadata": {},
     "output_type": "execute_result"
    }
   ],
   "source": [
    "krskliste[4][1]"
   ]
  },
  {
   "cell_type": "code",
   "execution_count": null,
   "id": "c2d015d7",
   "metadata": {},
   "outputs": [],
   "source": []
  }
 ],
 "metadata": {
  "kernelspec": {
   "display_name": "Python 3 (ipykernel)",
   "language": "python",
   "name": "python3"
  },
  "language_info": {
   "codemirror_mode": {
    "name": "ipython",
    "version": 3
   },
   "file_extension": ".py",
   "mimetype": "text/x-python",
   "name": "python",
   "nbconvert_exporter": "python",
   "pygments_lexer": "ipython3",
   "version": "3.11.4"
  }
 },
 "nbformat": 4,
 "nbformat_minor": 5
}
