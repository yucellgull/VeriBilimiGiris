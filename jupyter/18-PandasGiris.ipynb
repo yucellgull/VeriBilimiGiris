{
 "cells": [
  {
   "cell_type": "code",
   "execution_count": 1,
   "id": "1b0f700d",
   "metadata": {},
   "outputs": [],
   "source": [
    "import numpy as np\n",
    "import pandas as pd"
   ]
  },
  {
   "cell_type": "markdown",
   "id": "f5dbea72",
   "metadata": {},
   "source": [
    "# Seriler"
   ]
  },
  {
   "cell_type": "code",
   "execution_count": 2,
   "id": "4c89075b",
   "metadata": {},
   "outputs": [],
   "source": [
    "seri = {\"Yücel\" : 30, \"Zeynep\" : 25,\"Aslı\" : 35}"
   ]
  },
  {
   "cell_type": "code",
   "execution_count": 3,
   "id": "4c4c2751",
   "metadata": {},
   "outputs": [
    {
     "data": {
      "text/plain": [
       "Yücel     30\n",
       "Zeynep    25\n",
       "Aslı      35\n",
       "dtype: int64"
      ]
     },
     "execution_count": 3,
     "metadata": {},
     "output_type": "execute_result"
    }
   ],
   "source": [
    "pd.Series(seri)"
   ]
  },
  {
   "cell_type": "code",
   "execution_count": 5,
   "id": "2baa8a24",
   "metadata": {},
   "outputs": [],
   "source": [
    "seri1 = pd.Series([10,20,11],[\"Ali\",\"Veli\",\"Zeynep\"])"
   ]
  },
  {
   "cell_type": "code",
   "execution_count": 9,
   "id": "6fbdca58",
   "metadata": {},
   "outputs": [
    {
     "data": {
      "text/plain": [
       "Ali       10\n",
       "Veli      20\n",
       "Zeynep    11\n",
       "dtype: int64"
      ]
     },
     "execution_count": 9,
     "metadata": {},
     "output_type": "execute_result"
    }
   ],
   "source": [
    "seri1"
   ]
  },
  {
   "cell_type": "code",
   "execution_count": 6,
   "id": "e902052e",
   "metadata": {},
   "outputs": [],
   "source": [
    "seri2 = pd.Series([15,40,21],[\"Ali\",\"Veli\",\"Zeynep\"])"
   ]
  },
  {
   "cell_type": "code",
   "execution_count": 10,
   "id": "5d1c8fb4",
   "metadata": {},
   "outputs": [
    {
     "data": {
      "text/plain": [
       "Ali       15\n",
       "Veli      40\n",
       "Zeynep    21\n",
       "dtype: int64"
      ]
     },
     "execution_count": 10,
     "metadata": {},
     "output_type": "execute_result"
    }
   ],
   "source": [
    "seri2"
   ]
  },
  {
   "cell_type": "code",
   "execution_count": 7,
   "id": "eac9d8b7",
   "metadata": {},
   "outputs": [],
   "source": [
    "sonseri1 = seri1+seri2"
   ]
  },
  {
   "cell_type": "code",
   "execution_count": 8,
   "id": "437d83c0",
   "metadata": {},
   "outputs": [
    {
     "data": {
      "text/plain": [
       "Ali       25\n",
       "Veli      60\n",
       "Zeynep    32\n",
       "dtype: int64"
      ]
     },
     "execution_count": 8,
     "metadata": {},
     "output_type": "execute_result"
    }
   ],
   "source": [
    "sonseri1"
   ]
  },
  {
   "cell_type": "code",
   "execution_count": 12,
   "id": "6cb5458e",
   "metadata": {},
   "outputs": [],
   "source": [
    "farkliseri1 = pd.Series([10,5,7,3],[\"a\",\"b\",\"c\",\"d\"])"
   ]
  },
  {
   "cell_type": "code",
   "execution_count": 13,
   "id": "9edc4f0f",
   "metadata": {},
   "outputs": [],
   "source": [
    "farkliseri2 = pd.Series([15,7,9,4],[\"a\",\"e\",\"c\",\"g\"])"
   ]
  },
  {
   "cell_type": "code",
   "execution_count": 14,
   "id": "83d8c673",
   "metadata": {},
   "outputs": [
    {
     "data": {
      "text/plain": [
       "a    10\n",
       "b     5\n",
       "c     7\n",
       "d     3\n",
       "dtype: int64"
      ]
     },
     "execution_count": 14,
     "metadata": {},
     "output_type": "execute_result"
    }
   ],
   "source": [
    "farkliseri1"
   ]
  },
  {
   "cell_type": "code",
   "execution_count": 15,
   "id": "d7320407",
   "metadata": {},
   "outputs": [
    {
     "data": {
      "text/plain": [
       "a    15\n",
       "e     7\n",
       "c     9\n",
       "g     4\n",
       "dtype: int64"
      ]
     },
     "execution_count": 15,
     "metadata": {},
     "output_type": "execute_result"
    }
   ],
   "source": [
    "farkliseri2"
   ]
  },
  {
   "cell_type": "code",
   "execution_count": 16,
   "id": "fbdf2db2",
   "metadata": {},
   "outputs": [
    {
     "data": {
      "text/plain": [
       "a    25.0\n",
       "b     NaN\n",
       "c    16.0\n",
       "d     NaN\n",
       "e     NaN\n",
       "g     NaN\n",
       "dtype: float64"
      ]
     },
     "execution_count": 16,
     "metadata": {},
     "output_type": "execute_result"
    }
   ],
   "source": [
    "farkliseri1 +farkliseri2"
   ]
  },
  {
   "cell_type": "code",
   "execution_count": null,
   "id": "32431802",
   "metadata": {},
   "outputs": [],
   "source": [
    " "
   ]
  }
 ],
 "metadata": {
  "kernelspec": {
   "display_name": "Python 3 (ipykernel)",
   "language": "python",
   "name": "python3"
  },
  "language_info": {
   "codemirror_mode": {
    "name": "ipython",
    "version": 3
   },
   "file_extension": ".py",
   "mimetype": "text/x-python",
   "name": "python",
   "nbconvert_exporter": "python",
   "pygments_lexer": "ipython3",
   "version": "3.11.4"
  }
 },
 "nbformat": 4,
 "nbformat_minor": 5
}
